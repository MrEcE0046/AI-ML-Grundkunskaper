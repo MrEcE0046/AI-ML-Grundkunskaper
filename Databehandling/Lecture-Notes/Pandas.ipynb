{
 "cells": [
  {
   "cell_type": "markdown",
   "metadata": {},
   "source": [
    "# Pandas\n",
    "Läs in en fil"
   ]
  },
  {
   "cell_type": "code",
   "execution_count": null,
   "metadata": {},
   "outputs": [],
   "source": [
    "import pandas as pd\n",
    "\n",
    "\"\"\" Om man vill göra en egen data frame \"\"\"\n",
    "df = pd.DataFrame({\n",
    "    'A': [None, 1, 2, 3, 4],\n",
    "    'B': [5, 6, None, 8, 9],\n",
    "    'C': [10, 11, 12, 13, 14]\n",
    "})\n",
    "\n",
    "df\n"
   ]
  },
  {
   "cell_type": "code",
   "execution_count": null,
   "metadata": {},
   "outputs": [],
   "source": [
    "\"\"\"OM man vill ladda en extern fil \"\"\"\n",
    "\n",
    "df = pd.read_csv(\"../Data/student-mat-missing-data.csv\") # Man kan ställa in set_index i den extern filen\n",
    "df"
   ]
  },
  {
   "cell_type": "markdown",
   "metadata": {},
   "source": [
    "## Atributer och metoder"
   ]
  },
  {
   "cell_type": "code",
   "execution_count": null,
   "metadata": {},
   "outputs": [],
   "source": [
    "df.shape # Enbart antal rader och kolumner"
   ]
  },
  {
   "cell_type": "code",
   "execution_count": null,
   "metadata": {},
   "outputs": [],
   "source": [
    "df.columns # Namn på alla kolumner"
   ]
  },
  {
   "cell_type": "code",
   "execution_count": null,
   "metadata": {},
   "outputs": [],
   "source": [
    "df.info() # info och lista av klumner, datatyper"
   ]
  },
  {
   "cell_type": "code",
   "execution_count": null,
   "metadata": {},
   "outputs": [],
   "source": [
    "\"\"\" Generell beskrivning av statistiken \"\"\"\n",
    "\n",
    "df.describe()"
   ]
  },
  {
   "cell_type": "code",
   "execution_count": null,
   "metadata": {},
   "outputs": [],
   "source": [
    "df.head() # Första 5 rader\n",
    "df.head(10) # Första 10 rader"
   ]
  },
  {
   "cell_type": "code",
   "execution_count": null,
   "metadata": {},
   "outputs": [],
   "source": [
    "df.tail() # lästasta 5 rader"
   ]
  },
  {
   "cell_type": "markdown",
   "metadata": {},
   "source": [
    "## Inställningar"
   ]
  },
  {
   "cell_type": "code",
   "execution_count": null,
   "metadata": {},
   "outputs": [],
   "source": [
    "\"\"\" Ställ in hur många rader och kolumner manuellt som man vill se \"\"\"\n",
    "\n",
    "pd.set_option('display.max_rows', 39)\n",
    "pd.set_option(\"display.max_columns\", 34)\n",
    "df"
   ]
  },
  {
   "cell_type": "markdown",
   "metadata": {},
   "source": [
    "## Välja rader och kolumner\n"
   ]
  },
  {
   "cell_type": "code",
   "execution_count": null,
   "metadata": {},
   "outputs": [],
   "source": [
    "df.age.head()"
   ]
  },
  {
   "cell_type": "code",
   "execution_count": null,
   "metadata": {},
   "outputs": [],
   "source": [
    "\"\"\" Samma som ovan \"\"\"\n",
    "\n",
    "df[\"age\"].head() # Välj en kolumn"
   ]
  },
  {
   "cell_type": "code",
   "execution_count": null,
   "metadata": {},
   "outputs": [],
   "source": [
    "\"\"\" Välja fler än en column \"\"\"\n",
    "\n",
    "df[[\"age\", \"freetime\"]].head() # Man skriver alla kolumner som en lista "
   ]
  },
  {
   "cell_type": "markdown",
   "metadata": {},
   "source": [
    "# iloc"
   ]
  },
  {
   "cell_type": "code",
   "execution_count": null,
   "metadata": {},
   "outputs": [],
   "source": [
    "\"\"\" iloc används när man vill ha rader med hjälp av siffror \"\"\"\n",
    "\n",
    "df.iloc[[0, 5]] # Välj en eller flera specifika rader med interger"
   ]
  },
  {
   "cell_type": "code",
   "execution_count": null,
   "metadata": {},
   "outputs": [],
   "source": [
    "df.iloc[0:5] # Välj en eller flera rader med slice"
   ]
  },
  {
   "cell_type": "code",
   "execution_count": null,
   "metadata": {},
   "outputs": [],
   "source": [
    "df.iloc[:, 0:5].head(10) # Välj en eller flera kolumner med slice = Alla rader och bara klumner mellan 0 - 5"
   ]
  },
  {
   "cell_type": "code",
   "execution_count": null,
   "metadata": {},
   "outputs": [],
   "source": [
    "df.iloc[0:5, 0:5] # slica kolumner och rader"
   ]
  },
  {
   "cell_type": "code",
   "execution_count": null,
   "metadata": {},
   "outputs": [],
   "source": [
    "df.iloc[[0, 5], 2] # Välj specifika rader och kolumner, går även att slica. = Rad 0 och 5 i kolumn 2"
   ]
  },
  {
   "cell_type": "markdown",
   "metadata": {},
   "source": [
    "# loc"
   ]
  },
  {
   "cell_type": "code",
   "execution_count": null,
   "metadata": {},
   "outputs": [],
   "source": [
    "df.loc[0] # Välj en specifik rad"
   ]
  },
  {
   "cell_type": "code",
   "execution_count": null,
   "metadata": {},
   "outputs": [],
   "source": [
    "df.loc[[0, 1], \"age\"] # Visar specifika rader och kolumner"
   ]
  },
  {
   "cell_type": "code",
   "execution_count": null,
   "metadata": {},
   "outputs": [],
   "source": [
    "rader_kolumner = df.loc[[0, 1], [\"age\", \"sex\"]] # Visar specifika rader och kolumner = Rader i en lista och komlumner i en lista\n",
    "rader_kolumner"
   ]
  },
  {
   "cell_type": "code",
   "execution_count": null,
   "metadata": {},
   "outputs": [],
   "source": [
    "df.loc[0:5, \"age\":\"Fjob\"] # Slicar både rader och kolumner. Viktigt att skippa de inre listorna då..."
   ]
  },
  {
   "cell_type": "code",
   "execution_count": null,
   "metadata": {},
   "outputs": [],
   "source": [
    "\"\"\" Se alla värden i en kolumn \"\"\"\n",
    "\n",
    "df[\"sex\"].value_counts()"
   ]
  },
  {
   "cell_type": "markdown",
   "metadata": {},
   "source": [
    "# INDEX"
   ]
  },
  {
   "cell_type": "code",
   "execution_count": null,
   "metadata": {},
   "outputs": [],
   "source": [
    "\"\"\" Sätter index till en kolumn \"\"\"\n",
    "\n",
    "df.set_index(\"Unnamed: 0\").head()\n"
   ]
  },
  {
   "cell_type": "code",
   "execution_count": null,
   "metadata": {},
   "outputs": [],
   "source": [
    "\"\"\" Resettar indexet och returnerar den \"\"\"\n",
    "\n",
    "df.reset_index()"
   ]
  },
  {
   "cell_type": "markdown",
   "metadata": {},
   "source": [
    "# SORTERA"
   ]
  },
  {
   "cell_type": "code",
   "execution_count": 25,
   "metadata": {},
   "outputs": [],
   "source": [
    "\"\"\" Sortera indexet eller kolumner \"\"\"\n",
    "\n",
    "sort = df.sort_index().head() # Sortera indexet\n",
    "\n",
    "sort1 = df.sort_index(ascending=False).head() # Sorterar bakifrån, skriv inplace=True iparantesen för att ändra i df\n",
    "\n",
    "sort2 = df.sort_values(\"age\") # Sorterar efter specifik kolumn"
   ]
  },
  {
   "cell_type": "markdown",
   "metadata": {},
   "source": [
    "# FILTRERA"
   ]
  },
  {
   "cell_type": "code",
   "execution_count": null,
   "metadata": {},
   "outputs": [],
   "source": [
    "\"\"\" Filtrera efter bokstäver \"\"\"\n",
    "\n",
    "filt = (df[\"school\"] == \"GP\")\n",
    "\n",
    "df[df[\"school\"] == \"GP\"] \n",
    "\n",
    "df[filt] # Samma som df[df[\"reason\"] == \"GP\"]\n",
    "\n",
    "df.loc[filt] # Också samma sak"
   ]
  },
  {
   "cell_type": "code",
   "execution_count": null,
   "metadata": {},
   "outputs": [],
   "source": [
    "\"\"\" Filtrera efter värden i flera kolumner \"\"\"\n",
    "\"\"\" Antingen genom & och, | eller \"\"\"\n",
    "\n",
    "filt = (df[\"school\"] == \"GP\") & (df[\"sex\"] == \"F\") # Visa rader som innhåller värden som måste finns i båda kolumnerna \n",
    "filt = (df[\"school\"] == \"GP\") | (df[\"sex\"] == \"F\") # Visa rader som innhåller värden som finns i en kolumn eller en annan  \n",
    "filt"
   ]
  },
  {
   "cell_type": "code",
   "execution_count": null,
   "metadata": {},
   "outputs": [],
   "source": [
    "\"\"\" Filtrera efter värden i en kolumn \"\"\"\n",
    "\n",
    "filt = (df[\"school\"] == \"GP\")\n",
    "df.loc[~filt, \"school\"] # Visa alla rader som inte har värdet i en kolumn\n",
    "\n",
    "df.loc[~filt] # Visar alla rader och kolumner som inte innehåller \"GP\""
   ]
  },
  {
   "cell_type": "code",
   "execution_count": null,
   "metadata": {},
   "outputs": [],
   "source": [
    "\"\"\" Filtrera över eller under en integer \"\"\"\n",
    "\n",
    "high_age = (df[\"age\"] > 18)\n",
    "\n",
    "df[high_age] # Visar alla kolumner som har \"age\" ålder över 18\n",
    "df.loc[high_age] # Samma syntax som ovan\n",
    "\n",
    "df.loc[high_age, [\"sex\", \"Mjob\", \"age\"]] # Söker alla rader i specifika kolumner som är över 18 år\n",
    "\n",
    "\n",
    "\"\"\" \"\"\"\n",
    "mjob = [\"health\", \"at_home\"]\n",
    "filt = df[\"Mjob\"].isin(mjob)\n",
    "\n",
    "df.loc[filt, \"Mjob\"] # Filtrerar också specifika värden i specifika rader eller kolumner\n",
    "\n",
    "\n",
    "\"\"\" \"\"\"\n",
    "filt1 = df[\"Mjob\"].str.contains(\"at\", na=False) # Söker efter en del av en sträng i en specifik kolumn och struntar om det finns några NaN värden. \n",
    "filt1 # Visar rader som boolean\n",
    "df.loc[filt1] # Visar rader med sökt str och alla dess kolumner\n",
    "df.loc[filt1, \"Mjob\"] # Söker efter del av str i Mjob kolumnen\n",
    "df.loc[filt1, \"Fjob\"] # Söker efter del av sträng i Mjob kolumnen men visar värderna från samma rad i Fjob kolumnen. Mycket användbart\n",
    "df.loc[filt1]"
   ]
  },
  {
   "cell_type": "markdown",
   "metadata": {},
   "source": [
    "# Uppdatera rader och kolumner"
   ]
  },
  {
   "cell_type": "code",
   "execution_count": null,
   "metadata": {},
   "outputs": [],
   "source": [
    "\"\"\" Ändra versaler, gemener och specifika karaktärer i kolumnnamn \"\"\"\n",
    "\n",
    "\"\"\"\n",
    "df.columns= [x.upper() for x in df.columns] # Ändrar kolumnnamn till stora bokstäver\n",
    "df.columns= df.columns.str.replace(\"\", \"_\") # Ändrar karaktärer från ett värde till ett annant i kolumn namen. I det här faller mellanslag till underscore\n",
    "\"\"\"\n",
    "# df.columns= df.columns.str.replace(\"_\", \"\") # Ändrar karaktärer från ett värde till ett annant i kolumn namen. I det här faller mellanslag till underscore\n",
    "df.columns= [x.lower() for x in df.columns]\n",
    "df\n",
    "\n"
   ]
  },
  {
   "cell_type": "code",
   "execution_count": null,
   "metadata": {},
   "outputs": [],
   "source": [
    "\"\"\" Ändra namn på column\"\"\"\n",
    "\n",
    "df.rename(columns={\"mjob\": \"Mjob\", \"fjob\": \"Fjob\"}, inplace=True)\n",
    "df.head()"
   ]
  },
  {
   "cell_type": "code",
   "execution_count": null,
   "metadata": {},
   "outputs": [],
   "source": [
    "\"\"\" Ändra en eller flera datapunkt\"\"\"\n",
    "\n",
    "# df.loc[2] = [2, \"Ändrat från GP\", \"F\", 15.0, \"U\", \"GT3\", \"T\", 1, 1, \"at_home\", \"at_home\", \"reason\", \"guard\"] # Ändrar värdet i en datapunkt, men man behöver skriva alla kolumn namn\n",
    "# df.loc[2, \"school\"] == \"GÖ\"\n",
    "# df.loc[2, [\"school\", \"adress\"]] == [\"GT\", \"O\"]\n",
    "\n",
    "df.loc[2, 'school'] == 'hm'\n",
    "\n"
   ]
  },
  {
   "cell_type": "markdown",
   "metadata": {},
   "source": [
    "### Ändra stora - små bokstäver"
   ]
  },
  {
   "cell_type": "code",
   "execution_count": null,
   "metadata": {},
   "outputs": [],
   "source": [
    "\"\"\" Ändra versaler och gemener i en kolumn\"\"\"\n",
    "\n",
    "lower = df[\"school\"].str.lower() # Sparar kolumens gemener i en variabel\n",
    "lower\n",
    "\n",
    "df[\"school\"] = df[\"school\"].str.lower() # Ändrar versaler till gemener i en kolumn\n",
    "df\n",
    "\n",
    "df[\"Mjob\"].apply(len) # Ger oss hur många karaktärer varje datapunkt innehåller i en kolumn"
   ]
  },
  {
   "cell_type": "code",
   "execution_count": null,
   "metadata": {},
   "outputs": [],
   "source": [
    "\"\"\" Ändra versaler och gemener med funktioner, bara i serier (en kolumn) \"\"\"\n",
    "def update_mjob(x):\n",
    "    return x.upper()\n",
    "\n",
    "df[\"Mjob\"].apply(update_mjob)\n",
    "\n",
    "df[\"Mjob\"] = df[\"Mjob\"].apply(update_mjob)\n",
    "df"
   ]
  },
  {
   "cell_type": "code",
   "execution_count": null,
   "metadata": {},
   "outputs": [],
   "source": [
    "\"\"\" Ändra med lambda, bara i serier (en kolumn) \"\"\"\n",
    "\n",
    "df[\"Mjob\"] = df[\"Mjob\"].apply(lambda x: x.lower())\n",
    "df"
   ]
  },
  {
   "cell_type": "code",
   "execution_count": null,
   "metadata": {},
   "outputs": [],
   "source": [
    "\"\"\"  \"\"\"\n",
    "\n",
    "df[\"Mjob\"].apply(len)\n",
    "df.apply(len) # Ger storleken av varje rader"
   ]
  },
  {
   "cell_type": "code",
   "execution_count": null,
   "metadata": {},
   "outputs": [],
   "source": [
    "df.apply(len, axis=\"columns\") # Ger storleken av varje kolumn"
   ]
  },
  {
   "cell_type": "code",
   "execution_count": null,
   "metadata": {},
   "outputs": [],
   "source": [
    "df.apply(pd.Series.min) # Ger minsta värde i varje kolumn\n",
    "df.apply(pd.Series.max) # Ger största värde i varje kolumn"
   ]
  },
  {
   "cell_type": "code",
   "execution_count": null,
   "metadata": {},
   "outputs": [],
   "source": [
    "df.apply(lambda x: x.min()) # Ger minsta värde i varje kolumn\n",
    "df.apply(lambda x: x.max()) # Ger största värde i varje kolumn"
   ]
  },
  {
   "cell_type": "code",
   "execution_count": null,
   "metadata": {},
   "outputs": [],
   "source": [
    "df.apply(lambda x: x.map(len))\n",
    "print(df.apply(lambda x: x.map(len)))"
   ]
  },
  {
   "cell_type": "code",
   "execution_count": null,
   "metadata": {},
   "outputs": [],
   "source": [
    "\"\"\" Kollar värderna i en kolumn \"\"\"\n",
    "\n",
    "df[\"paid\"] "
   ]
  },
  {
   "cell_type": "code",
   "execution_count": null,
   "metadata": {},
   "outputs": [],
   "source": [
    "\"\"\" Ändra alla värden i en kolumn från yes till True och alla no till False\"\"\"\n",
    "\n",
    "df[\"paid\"] = df[\"paid\"].map(lambda x: True if x == \"yes\" else False if x == \"no\" else x)\n",
    "df"
   ]
  },
  {
   "cell_type": "markdown",
   "metadata": {},
   "source": [
    "# Addera kolumner"
   ]
  },
  {
   "cell_type": "code",
   "execution_count": null,
   "metadata": {},
   "outputs": [],
   "source": [
    "\"\"\" Kombinera sex och guardian i en serie \"\"\"\n",
    "\"\"\" tänk på att man måste konvertera typer om de inte matchar, str + str\"\"\"\n",
    "df[\"sex\"] + \" \" + df[\"guardian\"]"
   ]
  },
  {
   "cell_type": "code",
   "execution_count": null,
   "metadata": {},
   "outputs": [],
   "source": [
    "\"\"\" Kombinera kolumner ( sex och guardian) i en ny kolumn \"\"\"\n",
    "\n",
    "df[\"sex_and_guardiand\"] = df[\"sex\"] + \" - \" + df[\"guardian\"]\n",
    "df"
   ]
  },
  {
   "cell_type": "code",
   "execution_count": null,
   "metadata": {},
   "outputs": [],
   "source": [
    "\"\"\" Lägger till en kolumn från en tabell till en annan tabell\n",
    "Tänk på att man måste skapa/namnge den nya kolumnen i mottagarens tabell \"\"\" \n",
    "\n",
    "df['kolumn_namn'] = annan_df['kolumn_namn'] "
   ]
  },
  {
   "cell_type": "markdown",
   "metadata": {},
   "source": [
    "# Ta bort kolumner"
   ]
  },
  {
   "cell_type": "code",
   "execution_count": null,
   "metadata": {},
   "outputs": [],
   "source": [
    "\"\"\" Ta bort en eller flera kolumner \"\"\"\n",
    "\n",
    "drop = df.drop(columns= [\"sex\", \"guardian\"])\n",
    "drop"
   ]
  },
  {
   "cell_type": "code",
   "execution_count": null,
   "metadata": {},
   "outputs": [],
   "source": [
    "\"\"\" Splitta en kolumn till flera kolumner \"\"\"\n",
    "\n",
    "drop[[\"sex\", \"guardian\"]] = df[\"sex_and_guardian\"].str.split(\" - \", expand=True)"
   ]
  },
  {
   "cell_type": "markdown",
   "metadata": {},
   "source": [
    "# Ta bort whitespace"
   ]
  },
  {
   "cell_type": "code",
   "execution_count": null,
   "metadata": {},
   "outputs": [],
   "source": [
    "# Ta bort ws i hela dataframet\n",
    "df.columns = df.columns.str.replace(' ', '')\n",
    "\n",
    "# Tar bort ws i början av en str\n",
    "df.columns = df.columns.str.lstrip()\n",
    "\n",
    "# Tar bort ws i slutet av en str\n",
    "df.columns = df.columns.str.rstrip()\n",
    "\n",
    "# Tar bort ws i början och slutet av en str\n",
    "df.columns = df.columns.str.strip()\n",
    "\n",
    "# Tar bort ws och andra tecken i hela dataaframet\n",
    "df.columns = df.columns.str.replace(' ', '_')\n",
    "\n",
    "# osv.\n",
    "\n",
    "# Man kan ta specifik kolumn också som tex\n",
    "df[col] = df[col].str.strip()\n",
    "\n",
    "# Man kan lägga till allt som en kedja\n",
    "df.columns = df.columns.str.strip().str.replace(' ', '_')\n",
    "\n",
    "\"\"\" Om inget annat fungerar... \"\"\"\n",
    "def convert_to_float(value): \n",
    "    \n",
    "    return float(value.replace(' ', '')) # Kan vara tecken också, man får bort allt man vill.\n",
    "\n",
    "df[\"Befolkning\"] = df[\"Befolkning\"].apply(convert_to_float)"
   ]
  },
  {
   "cell_type": "markdown",
   "metadata": {},
   "source": [
    "# Gör kolumner numeriska"
   ]
  },
  {
   "cell_type": "code",
   "execution_count": null,
   "metadata": {},
   "outputs": [],
   "source": [
    "df = df.apply(pd.to_numeric, errors='coerce') # Gör hela tabellen numerisk\n",
    "\n",
    "df[\"År\"] = pd.to_numeric(df[\"År\"]) # Gör en kolumn numerisk \""
   ]
  },
  {
   "cell_type": "markdown",
   "metadata": {},
   "source": [
    "# Dubletter"
   ]
  },
  {
   "cell_type": "code",
   "execution_count": null,
   "metadata": {},
   "outputs": [],
   "source": [
    "\n",
    "df_without_duplicates = df.drop_duplicates() # Tar bort alla dubletter i tabellen\n",
    "\n",
    "df_without_duplicates = df.drop_duplicates(subset=[\"År\"]) # Tar bort alla dubletter i en kolumn"
   ]
  }
 ],
 "metadata": {
  "kernelspec": {
   "display_name": ".venv",
   "language": "python",
   "name": "python3"
  },
  "language_info": {
   "codemirror_mode": {
    "name": "ipython",
    "version": 3
   },
   "file_extension": ".py",
   "mimetype": "text/x-python",
   "name": "python",
   "nbconvert_exporter": "python",
   "pygments_lexer": "ipython3",
   "version": "3.11.9"
  }
 },
 "nbformat": 4,
 "nbformat_minor": 2
}
