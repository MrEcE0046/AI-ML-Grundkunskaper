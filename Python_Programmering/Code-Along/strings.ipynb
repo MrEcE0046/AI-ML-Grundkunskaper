{
 "cells": [
  {
   "cell_type": "markdown",
   "metadata": {},
   "source": [
    "# Strings\n",
    "\n",
    "I/O\n",
    "varibles\n",
    "if.while-for\n",
    "lists\n",
    "random"
   ]
  },
  {
   "cell_type": "code",
   "execution_count": 1,
   "metadata": {},
   "outputs": [
    {
     "name": "stdout",
     "output_type": "stream",
     "text": [
      "\n",
      "name Emil Edman\n",
      "School IT högskolan\n",
      "Adress Vägen\n",
      "Phone 07534234\n",
      "\n"
     ]
    }
   ],
   "source": [
    "firstname = \"Emil\"\n",
    "lastname = \"Edman\"\n",
    "\n",
    "fullname = firstname + \" \" + lastname\n",
    "school = \"IT högskolan\"\n",
    "adress = \"Vägen\"\n",
    "phone = \"07534234\"\n",
    "\n",
    "contact_details = f\"\"\"\n",
    "name {fullname}\n",
    "School {school}\n",
    "Adress {adress}\n",
    "Phone {phone}\n",
    "\"\"\"\n",
    "print(contact_details)"
   ]
  },
  {
   "cell_type": "code",
   "execution_count": 1,
   "metadata": {},
   "outputs": [
    {
     "name": "stdout",
     "output_type": "stream",
     "text": [
      "Veckomeny\n",
      "mån: mat1 \n",
      "tis: mat2 \n",
      "ons: mat3 \n",
      "tors: mat4 \n",
      "fre: mat5 \n",
      "\n"
     ]
    }
   ],
   "source": [
    "bamba = [\"mat1\", \"mat2\", \"mat3\", \"mat4\", \"mat5\"]\n",
    "days = [\"mån\", \"tis\", \"ons\", \"tors\", \"fre\"]\n",
    "\n",
    "menu = \"Veckomeny\\n\"\n",
    "# ZIP mycket bra verktyg, parar ihop listor \n",
    "for day, food in zip(days, bamba):\n",
    "    menu += f\"{day}: {food} \\n\"\n",
    "\n",
    "print(menu)"
   ]
  },
  {
   "cell_type": "code",
   "execution_count": 3,
   "metadata": {},
   "outputs": [
    {
     "name": "stdout",
     "output_type": "stream",
     "text": [
      "qoute[0]: !\n",
      "quote[5:10: e - I]\n",
      "quote[-4]: T\n",
      "quote[-4:]: True\n",
      "quote[::-1]: eurT sti esuaceb ynnuf stI - eslaF!\n"
     ]
    }
   ],
   "source": [
    "qoute = \"!False - Its funny because its True\"\n",
    "print(f\"qoute[0]: {qoute[0]}\")\n",
    "print(f\"quote[5:10: {qoute[5:10]}]\")\n",
    "print(f\"quote[-4]: {qoute[-4]}\")\n",
    "print(f\"quote[-4:]: {qoute[-4:]}\")\n",
    "print(f\"quote[::-1]: {qoute[::-1]}\")\n"
   ]
  },
  {
   "cell_type": "code",
   "execution_count": 6,
   "metadata": {},
   "outputs": [
    {
     "name": "stdout",
     "output_type": "stream",
     "text": [
      "['Math', ' bioligi', ' chemestry', ' programming']\n",
      "['Math', 'bioligi', 'chemestry', 'programming']\n"
     ]
    }
   ],
   "source": [
    "subjects = \"Math, bioligi, chemestry, programming\"\n",
    "split = subjects.split(\",\")\n",
    "print(split)\n",
    "\n",
    "# Få bort mellanslaget i stringen\n",
    "stripped = [sub.strip() for sub in split]\n",
    "print(stripped)\n",
    "\n"
   ]
  }
 ],
 "metadata": {
  "kernelspec": {
   "display_name": ".venv",
   "language": "python",
   "name": "python3"
  },
  "language_info": {
   "codemirror_mode": {
    "name": "ipython",
    "version": 3
   },
   "file_extension": ".py",
   "mimetype": "text/x-python",
   "name": "python",
   "nbconvert_exporter": "python",
   "pygments_lexer": "ipython3",
   "version": "3.11.9"
  }
 },
 "nbformat": 4,
 "nbformat_minor": 2
}
