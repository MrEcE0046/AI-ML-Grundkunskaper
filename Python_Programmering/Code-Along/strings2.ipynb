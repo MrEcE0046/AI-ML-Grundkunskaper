{
 "cells": [
  {
   "cell_type": "code",
   "execution_count": null,
   "metadata": {},
   "outputs": [],
   "source": [
    "# Utgå från strängen (skapa en variabel med) “Hello World!”, skriv ut hela strängen bokstav för bokstav (i en loop), men avsluta när det kommer ett space. \n",
    "# (Den ska alltså bara skriva “Hello”)\n",
    "\n",
    "hello = \"Hello world\"\n",
    "\n",
    "for hi in hello:\n",
    "   if hi == \" \":\n",
    "      break\n",
    "   print(hi, end=\"\")"
   ]
  },
  {
   "cell_type": "code",
   "execution_count": null,
   "metadata": {},
   "outputs": [],
   "source": [
    "# Utgå från strängen “This is just some other text”. Skriv ut strängen bokstav för bokstav, men när det kommer ett space, gör radbyte istället. (Du ska få ett ord på varje rad).\n",
    "\n",
    "text = \"This is just some other text\"\n",
    "\n",
    "for i in text:\n",
    "    if i == \" \":\n",
    "        i = \"\\n\"\n",
    "    print(i, end=\"\")"
   ]
  },
  {
   "cell_type": "code",
   "execution_count": null,
   "metadata": {},
   "outputs": [],
   "source": [
    "# Utgå från strängen “Detta är uppgift 3”. Skriv ut bokstav för bokstav. Men om index är en jämn siffra, skriv istället ut *\n",
    "\n",
    "text = \"Detta är uppgift 3\"\n",
    "\n",
    "for hej, i in enumerate(text):\n",
    "    if hej % 2 == 0:\n",
    "        print(\"*\", end=\"\")\n",
    "    else:\n",
    "        print(i, end=\"\")"
   ]
  },
  {
   "cell_type": "code",
   "execution_count": 51,
   "metadata": {},
   "outputs": [
    {
     "name": "stdout",
     "output_type": "stream",
     "text": [
      "Hello World\n",
      "Helloo Woorld"
     ]
    }
   ],
   "source": [
    "# Utgå från strängen “Hello world!”. Skriv ut bokstav för bokstav. Alla “o” ska vara grön färg, alla “l” ska vara röd färg. Övriga bokstäver är vita/grå.\n",
    "import colorama\n",
    "from colorama import init, Fore\n",
    "colorama.just_fix_windows_console()\n",
    "\n",
    "colorama.init(convert=True)\n",
    "\n",
    "hello = \"Hello World\"\n",
    "print(Fore.RED + \"Hello World\")\n",
    "\n",
    "for i in hello:\n",
    "    if i == \"o\":\n",
    "        print(Fore.GREEN + i, end=\"\")\n",
    "    if i == \"l\":\n",
    "        print(Fore.RED + i, end=\"\")\n",
    "    else:\n",
    "        print(Fore.WHITE + i, end=\"\")"
   ]
  },
  {
   "cell_type": "code",
   "execution_count": 52,
   "metadata": {},
   "outputs": [
    {
     "name": "stdout",
     "output_type": "stream",
     "text": [
      "Hello world"
     ]
    }
   ],
   "source": [
    "# Utgå från strängen “Hello world”. Skriv ut bokstav för bokstav. Om två tecken på rad är samma så ska dessa vara grön färg. Övriga bokstäver är vita/grå.\n",
    "\n",
    "from colorama import init, Fore\n",
    "\n",
    "init()\n",
    "text = \"Hello world\"\n",
    "previous_char = \"\"\n",
    "for char in text:\n",
    "    if char == previous_char:\n",
    "        print(Fore.GREEN + char, end=\"\")\n",
    "    else:\n",
    "        print(char, end=\"\")\n",
    "    previous_char = char"
   ]
  },
  {
   "cell_type": "code",
   "execution_count": null,
   "metadata": {},
   "outputs": [],
   "source": [
    "# Utgå från strängen “How much wood would a woodchuck chuck if a woodchuck could chuck wood?”, samt den mindre strängen “oo”. Skriv ut den långa strängen bokstav för bokstav. \n",
    "# Varje gång den mindre strängen förekommer (två “o” på raken) så ska dessa vara med grön färg. Övriga bokstäver är vita/grå.\n",
    "\n",
    "from colorama import init, Fore\n",
    "\n",
    "init()\n",
    "\n",
    "sträng = \"How much wood would a woodchuck chuck if a woodchuck could chuck wood?\"\n",
    "oo = \"oo\"\n",
    "\n"
   ]
  },
  {
   "cell_type": "code",
   "execution_count": 49,
   "metadata": {},
   "outputs": [
    {
     "name": "stdout",
     "output_type": "stream",
     "text": [
      "Requirement already satisfied: colorama in c:\\users\\emil_\\git\\.venv\\lib\\site-packages (0.4.6)"
     ]
    },
    {
     "name": "stdout",
     "output_type": "stream",
     "text": [
      "\n"
     ]
    }
   ],
   "source": [
    "!pip install colorama"
   ]
  }
 ],
 "metadata": {
  "kernelspec": {
   "display_name": ".venv",
   "language": "python",
   "name": "python3"
  },
  "language_info": {
   "codemirror_mode": {
    "name": "ipython",
    "version": 3
   },
   "file_extension": ".py",
   "mimetype": "text/x-python",
   "name": "python",
   "nbconvert_exporter": "python",
   "pygments_lexer": "ipython3",
   "version": "3.11.9"
  }
 },
 "nbformat": 4,
 "nbformat_minor": 2
}
