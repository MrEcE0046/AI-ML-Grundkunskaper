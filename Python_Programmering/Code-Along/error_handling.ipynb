{
 "cells": [
  {
   "cell_type": "code",
   "execution_count": null,
   "metadata": {},
   "outputs": [],
   "source": [
    "def my_function(a, b):\n",
    "    print(a, b)\n",
    "    raise ValueError\n",
    "\n",
    "def second_function(a,b):\n",
    "    my_function(a,b)\n",
    "\n",
    "second_function(1,2)"
   ]
  },
  {
   "cell_type": "markdown",
   "metadata": {},
   "source": [
    "## Logic\n",
    "\n",
    "### Boolean logic \n",
    "Only two values; 0, 1 (True , False) \n",
    "\n",
    "Valuation function \n",
    "    - Determeines the true value of a boolean expression\n",
    "\n",
    "Operators:\n",
    "<, >\n",
    "\n",
    "a AND b\n",
    "\n",
    "a OR b\n",
    "\n",
    "a XOR b\n",
    "\n",
    "a IMPL b\n",
    "\n",
    "a EQ b\n",
    "\n",
    "\n"
   ]
  },
  {
   "cell_type": "markdown",
   "metadata": {},
   "source": [
    "## Symbols are data\n",
    "\n",
    "| 1 | 0 | 1 |\n",
    "\n",
    "1*2^0 + 0*2^1 + 1*2^2=5\n",
    "65 (decimal):\n",
    "    ASCII (65) = \"A\"\n",
    "    "
   ]
  },
  {
   "cell_type": "markdown",
   "metadata": {},
   "source": [
    "Unlike mathematics, in programming, functions have _context_."
   ]
  },
  {
   "cell_type": "markdown",
   "metadata": {},
   "source": [
    "voting classifier"
   ]
  }
 ],
 "metadata": {
  "language_info": {
   "name": "python"
  }
 },
 "nbformat": 4,
 "nbformat_minor": 2
}
