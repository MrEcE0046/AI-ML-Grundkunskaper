{
 "cells": [
  {
   "cell_type": "markdown",
   "metadata": {},
   "source": [
    "<a href=\"https://colab.research.google.com/github/pr0fez/AI24-Programmering/blob/master/Exercises/03-for-statement-exercise.ipynb\" target=\"_parent\"><img align=\"left\" src=\"https://colab.research.google.com/assets/colab-badge.svg\" alt=\"Open In Colab\"/></a> &nbsp; to see hints and answers."
   ]
  },
  {
   "cell_type": "markdown",
   "metadata": {},
   "source": [
    "# for statement exercises\n",
    "\n",
    "---\n",
    "These are introductory exercises in Python with focus in **for** statement.\n",
    "\n",
    "<p class = \"alert alert-info\" role=\"alert\"><b>Remember</b> to use <b>descriptive variable names</b> in order to get readable code </p>\n",
    "\n",
    "<p class = \"alert alert-info\" role=\"alert\"><b>Remember</b> to format your answers in a neat way using <b>f-strings</b>\n",
    "\n",
    "<p class = \"alert alert-info\" role=\"alert\"><b>Remember</b> to format your input questions in a pedagogical way to guide the user\n",
    "\n",
    "The number of stars (\\*), (\\*\\*), (\\*\\*\\*) denotes the difficulty level of the task\n",
    "\n",
    "---"
   ]
  },
  {
   "cell_type": "markdown",
   "metadata": {},
   "source": [
    "## 1. Count numbers (*)\n",
    "\n",
    "Use a **for** statement to count from: \n",
    "\n",
    "&nbsp; a) &nbsp; -10 to 10 with one increment (*)\n",
    "\n",
    "&nbsp; b) &nbsp; -10 to 10 with two increment (*)\n",
    "\n",
    "<details>\n",
    "\n",
    "<summary>Answer </summary>\n",
    "\n",
    "```\n",
    "a) -10 -9 -8 -7 -6 -5 -4 -3 -2 -1 0 1 2 3 4 5 6 7 8 9 10\n",
    "\n",
    "b) -10  -8  -6  -4  -2  0  2  4  6  8  10\n",
    "```\n",
    "\n",
    "</details>\n",
    "\n"
   ]
  },
  {
   "cell_type": "code",
   "execution_count": 15,
   "metadata": {},
   "outputs": [
    {
     "name": "stdout",
     "output_type": "stream",
     "text": [
      "-10 -9 -8 -7 -6 -5 -4 -3 -2 -1 0 1 2 3 4 5 6 7 8 9 10 \n",
      "-10 -8 -6 -4 -2 0 2 4 6 8 10 "
     ]
    }
   ],
   "source": [
    "for i in range(-11, 10):\n",
    "    i += 1\n",
    "    print(i, end=\" \")\n",
    "print()\n",
    "for y in range(-11, 10, 2):\n",
    "    y += 1\n",
    "    print(y, end=\" \")"
   ]
  },
  {
   "cell_type": "markdown",
   "metadata": {},
   "source": [
    "---\n",
    "## 2. Arithmetic sum (*)\n",
    "Use a **for** statement to compute the following sums: \n",
    "\n",
    "&nbsp; a) &nbsp; $\\text{sum} = 1 + 2 + \\ldots + 99+ 100$ (*)\n",
    "\n",
    "&nbsp; b) &nbsp; $\\text{sum} = 1 + 3 + 5 + \\ldots + 97 + 99$ (*)\n",
    "\n",
    "<details>\n",
    "\n",
    "<summary>Answer </summary>\n",
    "\n",
    "```\n",
    "a) 1 + 2 + ... + 99 + 100 = 5050 \n",
    "\n",
    "b) 1 + 3 + 5 +...+ 97 + 99 = 2500\n",
    "```\n",
    "\n",
    "</details>\n"
   ]
  },
  {
   "cell_type": "code",
   "execution_count": 30,
   "metadata": {},
   "outputs": [
    {
     "name": "stdout",
     "output_type": "stream",
     "text": [
      "1+2+3+4+5+6+7+8+9+10+11+12+13+14+15+16+17+18+19+20+21+22+23+24+25+26+27+28+29+30+31+32+33+34+35+36+37+38+39+40+41+42+43+44+45+46+47+48+49+50+51+52+53+54+55+56+57+58+59+60+61+62+63+64+65+66+67+68+69+70+71+72+73+74+75+76+77+78+79+80+81+82+83+84+85+86+87+88+89+90+91+92+93+94+95+96+97+98+99+100+= 5050\n",
      "1+3+5+7+9+11+13+15+17+19+21+23+25+27+29+31+33+35+37+39+41+43+45+47+49+51+53+55+57+59+61+63+65+67+69+71+73+75+77+79+81+83+85+87+89+91+93+95+97+99+= 5000\n"
     ]
    }
   ],
   "source": [
    "sum = 0\n",
    "for i in range(0, 100, 1):\n",
    "    i += 1\n",
    "    sum += i\n",
    "    print(i, end=\"+\")\n",
    "print(\"=\", sum)\n",
    "\n",
    "sum_odd = 0\n",
    "for y in range(0, 99, 2):\n",
    "    y += 1\n",
    "    sum_odd += y\n",
    "    print(y, end=\"+\")\n",
    "print(\"=\", sum_odd)"
   ]
  },
  {
   "cell_type": "markdown",
   "metadata": {},
   "source": [
    "---\n",
    "## 3. Multiplication table (*)\n",
    "Use **for** statement(s) to:\n",
    "\n",
    "&nbsp; a) &nbsp; print out the 6th multiplication table from 0 to 10 (*)\n",
    "\n",
    "&nbsp; b) &nbsp; let the user input the **table**, **start** and **end** of the table. (*)\n",
    "\n",
    "&nbsp; c) &nbsp; print out a full multiplication table from 0 to 10. (**)\n",
    "\n",
    "\n",
    "<details>\n",
    "\n",
    "<summary>Hint</summary>\n",
    "\n",
    "c) Use nested for-loops, which means a for-loop in a for-loop. To format the table nicely, use **f-string**: \n",
    "\n",
    "```python\n",
    "print(f\"{number :4}\", end = \"\")\n",
    "```\n",
    "\n",
    "\n",
    "</details>\n",
    "\n",
    "\n",
    "<details>\n",
    "\n",
    "<summary>Answer </summary>\n",
    "\n",
    "a)\n",
    "```\n",
    "0 6 12 18 24 30 36 42 48 54 60\n",
    "```\n",
    "\n",
    "b) e.g. \n",
    "\n",
    "```\n",
    "Which table are you interested in? 5\n",
    "Specify start of table: 5\n",
    "Specify end of table: 12\n",
    "\n",
    "Your 5th multiplication table from 5 to 12: 25 30 35 40 45 50 55 60\n",
    "```\n",
    "\n",
    "c)\n",
    "\n",
    "```\n",
    "   0   0   0   0   0   0   0   0   0   0   0\n",
    "   0   1   2   3   4   5   6   7   8   9  10\n",
    "   0   2   4   6   8  10  12  14  16  18  20\n",
    "   0   3   6   9  12  15  18  21  24  27  30\n",
    "   0   4   8  12  16  20  24  28  32  36  40\n",
    "   0   5  10  15  20  25  30  35  40  45  50\n",
    "   0   6  12  18  24  30  36  42  48  54  60\n",
    "   0   7  14  21  28  35  42  49  56  63  70\n",
    "   0   8  16  24  32  40  48  56  64  72  80\n",
    "   0   9  18  27  36  45  54  63  72  81  90\n",
    "   0  10  20  30  40  50  60  70  80  90 100\n",
    "```\n",
    "\n",
    "</details>"
   ]
  },
  {
   "cell_type": "code",
   "execution_count": 6,
   "metadata": {},
   "outputs": [
    {
     "name": "stdout",
     "output_type": "stream",
     "text": [
      "10 * 10 = 100\n",
      "10 * 11 = 110\n",
      "10 * 12 = 120\n",
      "10 * 13 = 130\n",
      "10 * 14 = 140\n",
      "10 * 15 = 150\n",
      "10 * 16 = 160\n",
      "10 * 17 = 170\n",
      "10 * 18 = 180\n",
      "10 * 19 = 190\n",
      "10 * 20 = 200\n"
     ]
    }
   ],
   "source": [
    "table = int(input(\"Type in a number you to multiply: \"))\n",
    "start = int(input(\"Specify a number you want to start your calculation: \"))\n",
    "end = int(input(\"Specify how long you want to calculate:  \"))\n",
    "\n",
    "\n",
    "for i in range(start, end + 1):\n",
    "        tot = table * i\n",
    "        print(f\"{table} * {i} = {tot}\")\n",
    "\n"
   ]
  },
  {
   "cell_type": "code",
   "execution_count": 24,
   "metadata": {},
   "outputs": [
    {
     "name": "stdout",
     "output_type": "stream",
     "text": [
      "   1   2   3   4   5   6   7   8   9  10\n",
      "   2   4   6   8  10  12  14  16  18  20\n",
      "   3   6   9  12  15  18  21  24  27  30\n",
      "   4   8  12  16  20  24  28  32  36  40\n",
      "   5  10  15  20  25  30  35  40  45  50\n",
      "   6  12  18  24  30  36  42  48  54  60\n",
      "   7  14  21  28  35  42  49  56  63  70\n",
      "   8  16  24  32  40  48  56  64  72  80\n",
      "   9  18  27  36  45  54  63  72  81  90\n",
      "  10  20  30  40  50  60  70  80  90 100\n"
     ]
    }
   ],
   "source": [
    "# 3.C\n",
    "\n",
    "for y in range(1, 11):\n",
    "        for z in range(1, 11):\n",
    "                print(f\"{y * z:4}\", end=\"\")\n",
    "        print()"
   ]
  },
  {
   "cell_type": "markdown",
   "metadata": {},
   "source": [
    "---\n",
    "## 4. Faculty (*)\n",
    "\n",
    "Use a **for** statement to compute $n!$. \n",
    "\n",
    "$n! = 1\\cdot2\\cdot3\\cdot\\ldots\\cdot(n-1)\\cdot n $\n",
    "\n",
    "Let the user input $n$. "
   ]
  },
  {
   "cell_type": "code",
   "execution_count": 99,
   "metadata": {},
   "outputs": [
    {
     "name": "stdout",
     "output_type": "stream",
     "text": [
      "1*2*3*4* = 24\n"
     ]
    }
   ],
   "source": [
    "# n = int(input(\"Type the faculty: \"))\n",
    "n = 4\n",
    "tot = 1\n",
    "\n",
    "for i in range(1, n+1):\n",
    "    tot *= i\n",
    "    print(i, end=\"*\")   \n",
    "print(\" =\", tot)\n",
    "\n",
    "\n"
   ]
  },
  {
   "cell_type": "markdown",
   "metadata": {},
   "source": [
    "--- \n",
    "## 5. Guess the number (*)\n",
    "\n",
    "The computer thinks of a four-digit number. Start by creating a random four-digit number. Use **for** statement to figure out a correct guess\n",
    "\n",
    "<br>\n",
    "<details>\n",
    "\n",
    "<summary>Answer </summary>\n",
    "\n",
    "e.g.\n",
    "```\n",
    "The final guess is 8993\n",
    "The computer number is 8993\n",
    "```\n",
    "\n",
    "</details>"
   ]
  },
  {
   "cell_type": "code",
   "execution_count": 2,
   "metadata": {},
   "outputs": [
    {
     "name": "stdout",
     "output_type": "stream",
     "text": [
      "1: 5499 is too low, try again...\n",
      "2: 7749 is too low, try again...\n",
      "3: 8874 is too high, try again...\n",
      "4: 8311 is too low, try again...\n",
      "5: 8592 is too low, try again...\n",
      "6: 8733 is too high, try again...\n",
      "7: 8662 is too high, try again...\n",
      "8: 8627 is too low, try again...\n",
      "9: 8644 is too high, try again...\n",
      "10: 8635 is correct!\n"
     ]
    }
   ],
   "source": [
    "import random as rand\n",
    "\n",
    "ran_num = rand.randint(1000, 9999)\n",
    "#ran_num = 6666\n",
    "low = 1000\n",
    "high = 9999\n",
    "guesses = 1\n",
    " \n",
    "\n",
    "for i in range(low, high):\n",
    "    mid = (low + high) // 2\n",
    "    i = mid\n",
    "\n",
    "    if i > ran_num:\n",
    "        print(f\"{guesses}: {i} is too high, try again...\")\n",
    "        guesses = guesses + 1\n",
    "        high = mid - 1 \n",
    "        \n",
    "    elif i < ran_num:\n",
    "        print(f\"{guesses}: {i} is too low, try again...\")\n",
    "        guesses = guesses + 1\n",
    "        low = mid + 1\n",
    "    else:\n",
    "        print(f\"{guesses}: {i} is correct!\")\n",
    "        break\n",
    "\n"
   ]
  },
  {
   "cell_type": "markdown",
   "metadata": {},
   "source": [
    "---\n",
    "## 6. Rice on chessboard (*)\n",
    "\n",
    "In first square of the chessboard there is one grain of rice, in the second square there is two grains, in the third square there is four grains and so on. How many grains are there in the whole chessboard when all squares are filled using this pattern?\n",
    "\n",
    "<img align=\"left\" src=\"../assets/chessboard.png\" width=\"300\"/>"
   ]
  },
  {
   "cell_type": "markdown",
   "metadata": {},
   "source": [
    "<details>\n",
    "\n",
    "<summary>Answer</summary>\n",
    "\n",
    "```\n",
    "18446744073709551615 number of grains\n",
    "```\n",
    "\n",
    "</details>"
   ]
  },
  {
   "cell_type": "code",
   "execution_count": 141,
   "metadata": {},
   "outputs": [
    {
     "name": "stdout",
     "output_type": "stream",
     "text": [
      "square 1 = 2\n",
      "square 2 = 4\n",
      "square 3 = 8\n",
      "square 4 = 16\n",
      "square 5 = 32\n",
      "square 6 = 64\n",
      "square 7 = 128\n",
      "square 8 = 256\n",
      "square 9 = 512\n",
      "square 10 = 1024\n",
      "square 11 = 2048\n",
      "square 12 = 4096\n",
      "square 13 = 8192\n",
      "square 14 = 16384\n",
      "square 15 = 32768\n",
      "square 16 = 65536\n",
      "square 17 = 131072\n",
      "square 18 = 262144\n",
      "square 19 = 524288\n",
      "square 20 = 1048576\n",
      "square 21 = 2097152\n",
      "square 22 = 4194304\n",
      "square 23 = 8388608\n",
      "square 24 = 16777216\n",
      "square 25 = 33554432\n",
      "square 26 = 67108864\n",
      "square 27 = 134217728\n",
      "square 28 = 268435456\n",
      "square 29 = 536870912\n",
      "square 30 = 1073741824\n",
      "square 31 = 2147483648\n",
      "square 32 = 4294967296\n",
      "square 33 = 8589934592\n",
      "square 34 = 17179869184\n",
      "square 35 = 34359738368\n",
      "square 36 = 68719476736\n",
      "square 37 = 137438953472\n",
      "square 38 = 274877906944\n",
      "square 39 = 549755813888\n",
      "square 40 = 1099511627776\n",
      "square 41 = 2199023255552\n",
      "square 42 = 4398046511104\n",
      "square 43 = 8796093022208\n",
      "square 44 = 17592186044416\n",
      "square 45 = 35184372088832\n",
      "square 46 = 70368744177664\n",
      "square 47 = 140737488355328\n",
      "square 48 = 281474976710656\n",
      "square 49 = 562949953421312\n",
      "square 50 = 1125899906842624\n",
      "square 51 = 2251799813685248\n",
      "square 52 = 4503599627370496\n",
      "square 53 = 9007199254740992\n",
      "square 54 = 18014398509481984\n",
      "square 55 = 36028797018963968\n",
      "square 56 = 72057594037927936\n",
      "square 57 = 144115188075855872\n",
      "square 58 = 288230376151711744\n",
      "square 59 = 576460752303423488\n",
      "square 60 = 1152921504606846976\n",
      "square 61 = 2305843009213693952\n",
      "square 62 = 4611686018427387904\n",
      "square 63 = 9223372036854775808\n",
      "square 64 = 18446744073709551616\n"
     ]
    }
   ],
   "source": [
    "grains = 1 \n",
    "#tot = 0\n",
    "\n",
    "for i in range(1, 65):\n",
    "    grains *= 2\n",
    "    print(f\"square {i} = {grains}\")"
   ]
  },
  {
   "cell_type": "markdown",
   "metadata": {},
   "source": [
    "---\n",
    "\n",
    "pr0fez Giang\n",
    "\n",
    "[LinkedIn][linkedIn_pr0fez]\n",
    "\n",
    "[GitHub portfolio][github_portfolio]\n",
    "\n",
    "[linkedIn_pr0fez]: https://www.linkedin.com/in/pr0fezgiang/\n",
    "[github_portfolio]: https://github.com/pr0fez/Portfolio-pr0fez-Giang\n",
    "\n",
    "---"
   ]
  }
 ],
 "metadata": {
  "kernelspec": {
   "display_name": "Python 3.9.6 64-bit",
   "language": "python",
   "name": "python3"
  },
  "language_info": {
   "codemirror_mode": {
    "name": "ipython",
    "version": 3
   },
   "file_extension": ".py",
   "mimetype": "text/x-python",
   "name": "python",
   "nbconvert_exporter": "python",
   "pygments_lexer": "ipython3",
   "version": "3.11.9"
  },
  "orig_nbformat": 4,
  "vscode": {
   "interpreter": {
    "hash": "0da836a34428266995a795f1e1e27b816fa1c02f148d9728b3fbbbc5459afca6"
   }
  }
 },
 "nbformat": 4,
 "nbformat_minor": 2
}
