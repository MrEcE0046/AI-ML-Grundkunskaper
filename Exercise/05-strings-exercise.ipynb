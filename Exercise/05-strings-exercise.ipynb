{
 "cells": [
  {
   "cell_type": "markdown",
   "metadata": {},
   "source": [
    "<a href=\"https://colab.research.google.com/github/pr0fez/AI24-Programmering/blob/master/Exercises/05-strings-exercise.ipynb\" target=\"_parent\"><img align=\"left\" src=\"https://colab.research.google.com/assets/colab-badge.svg\" alt=\"Open In Colab\"/></a> &nbsp; to see hints and answers."
   ]
  },
  {
   "cell_type": "markdown",
   "metadata": {},
   "source": [
    "# strings exercises\n",
    "\n",
    "---\n",
    "These are introductory exercises in Python with focus in **strings**.\n",
    "\n",
    "<p class = \"alert alert-info\" role=\"alert\"><b>Remember</b> to use <b>descriptive variable names</b> in order to get readable code </p>\n",
    "\n",
    "<p class = \"alert alert-info\" role=\"alert\"><b>Remember</b> to format your answers in a neat way using <b>f-strings</b>\n",
    "\n",
    "<p class = \"alert alert-info\" role=\"alert\"><b>Remember</b> to format your input questions in a pedagogical way to guide the user\n",
    "\n",
    "The number of stars (\\*), (\\*\\*), (\\*\\*\\*) denotes the difficulty level of the task\n",
    "\n",
    "---"
   ]
  },
  {
   "cell_type": "markdown",
   "metadata": {},
   "source": [
    "## 1. Counting letters (*)\n",
    "\n",
    "Let the user input a word: \n",
    "\n",
    "&nbsp; a) &nbsp; print out the number of letters in the word. (*) \n",
    "  \n",
    "&nbsp; b) &nbsp; print out the number of **uppercase** and **lowercase** letters of the word (*)   \n"
   ]
  },
  {
   "cell_type": "code",
   "execution_count": 77,
   "metadata": {},
   "outputs": [
    {
     "name": "stdout",
     "output_type": "stream",
     "text": [
      "There is 5 letters in the word 'JENNy'.\n",
      "There is 4 uppercases and 1 lowercases in the word 'JENNy'.\n"
     ]
    }
   ],
   "source": [
    "word = input(\"Type in a word: \")\n",
    "letters = 0\n",
    "upper = 0\n",
    "lower = 0\n",
    "\n",
    "for i in word:\n",
    "    letters += 1\n",
    "    if (i.isupper()):\n",
    "        upper += 1\n",
    "    else:\n",
    "        lower += 1\n",
    "print(f\"There is {letters} letters in the word '{word}'.\")\n",
    "print(f\"There is {upper} uppercases and {lower} lowercases in the word '{word}'.\")"
   ]
  },
  {
   "cell_type": "code",
   "execution_count": 88,
   "metadata": {},
   "outputs": [
    {
     "name": "stdout",
     "output_type": "stream",
     "text": [
      "There is 5 letters in the word 'JENNy'.\n",
      "There is 4 uppercases and 1 lowercases in the word 'JENNy'.\n"
     ]
    }
   ],
   "source": [
    "import re\n",
    "upper1 = 0\n",
    "lower1 = 0\n",
    "\n",
    "text = input(\"Type in a word: \")\n",
    "count = len(re.findall(r'[a-zA-Z]', text))\n",
    "for i in text:\n",
    "    if (i.isupper()):\n",
    "        upper1 += 1\n",
    "    else:\n",
    "        lower1 += 1 \n",
    "print(f\"There is {count} letters in the word '{text}'.\")\n",
    "print(f\"There is {upper1} uppercases and {lower1} lowercases in the word '{text}'.\")"
   ]
  },
  {
   "cell_type": "code",
   "execution_count": 87,
   "metadata": {},
   "outputs": [
    {
     "name": "stdout",
     "output_type": "stream",
     "text": [
      "5\n",
      "There is 5 letters in the word 'JENNy'.\n",
      "There is 4 uppercases and 1 lowercases in the word 'JENNy'.\n"
     ]
    }
   ],
   "source": [
    "word = input(\"Type in a word: \")\n",
    "print(len(word))\n",
    "upper1 = 0\n",
    "lower1 = 0\n",
    "\n",
    "for i in word:\n",
    "    if (i.isupper()):\n",
    "        upper1 += 1\n",
    "    else:\n",
    "        lower1 += 1 \n",
    "print(f\"There is {len(word)} letters in the word '{word}'.\")\n",
    "print(f\"There is {upper1} uppercases and {lower1} lowercases in the word '{word}'.\")\n"
   ]
  },
  {
   "cell_type": "markdown",
   "metadata": {},
   "source": [
    "---\n",
    "## 2. Counting words (*)\n",
    "\n",
    "Count the number of words in this sentence: \"A picture says more than a thousand words, a matematical formula says more than a thousand pictures.\" (*) \n",
    "\n",
    "<details>\n",
    "\n",
    "<summary>Answer</summary>\n",
    "\n",
    "```\n",
    "There are 17 words in that sentence\n",
    "```"
   ]
  },
  {
   "cell_type": "code",
   "execution_count": 79,
   "metadata": {},
   "outputs": [
    {
     "name": "stdout",
     "output_type": "stream",
     "text": [
      "17\n"
     ]
    }
   ],
   "source": [
    "words = \"A picture says more than a thousand words, a matematical formula says more than a thousand pictures\"\n",
    "split = words.split()\n",
    "num_words = 0\n",
    "\n",
    "for i in split:\n",
    "    num_words += 1\n",
    "print(num_words)"
   ]
  },
  {
   "cell_type": "markdown",
   "metadata": {},
   "source": [
    "---\n",
    "## 3. Palindrome (*)\n",
    "\n",
    "A palindrome is a sequence of characters that is the same, when read forward as backwards (ignoring spaces). For example:\n",
    "- \"Anna\" is a palindrome\n",
    "- \"Ni talar bra latin\"\n",
    "- bjkjb \n",
    "\n",
    "Let the user input a sequence of characters and check if it is a palindrome. (*)"
   ]
  },
  {
   "cell_type": "code",
   "execution_count": 66,
   "metadata": {},
   "outputs": [
    {
     "name": "stdout",
     "output_type": "stream",
     "text": [
      "The word Ni Talar Bra latin is a palindrome.\n"
     ]
    }
   ],
   "source": [
    "word1 = str(input(\"Type a word or a sentence to check if it's a palindrome: \"))\n",
    "\n",
    "word_lower = word1.lower().replace(\" \", \"\")\n",
    "word1_ = word_lower[::-1]\n",
    "if word_lower == word1_:\n",
    "    print(f\"The word {word1} is a palindrome.\")\n",
    "else:\n",
    "    print(f\"The word '{word1}' is not a palindrome.\")"
   ]
  },
  {
   "cell_type": "markdown",
   "metadata": {},
   "source": [
    "---\n",
    "## 4. Vowels (**)\n",
    "\n",
    "Count the number of vowels in this sentence: \"Pure mathematics is, in its way, the poetry of logical ideas\"\n",
    "\n",
    "<details>\n",
    "\n",
    "<summary>Answer</summary>\n",
    "\n",
    "```\n",
    "\n",
    "There are 22 vowels in this sentence\n",
    "\n",
    "```\n",
    "</details>"
   ]
  },
  {
   "cell_type": "code",
   "execution_count": 64,
   "metadata": {},
   "outputs": [
    {
     "name": "stdout",
     "output_type": "stream",
     "text": [
      "Thee is 20 vowels in the sentence: 'Pure mathematics is, in its way, the poetry of logical ideas'.\n"
     ]
    }
   ],
   "source": [
    "sentence = \"Pure mathematics is, in its way, the poetry of logical ideas\"\n",
    "count = 0\n",
    "\n",
    "count = sentence.count(\"a\") + sentence.count(\"e\") + sentence.count(\"i\") + sentence.count(\"o\") + sentence.count(\"u\")\n",
    "\n",
    "print(f\"Thee is {count} vowels in the sentence: '{sentence}'.\")"
   ]
  },
  {
   "cell_type": "markdown",
   "metadata": {},
   "source": [
    "---\n",
    "## 5. Encryption (**)\n",
    "\n",
    "Let the user input a word and: \n",
    "\n",
    "&nbsp; a) &nbsp; encrypt the message by replacing each letter with the next letter. If the letter is in the end of the alphabet, use the first letter instead. \n",
    "\n",
    "e.g. in Swedish: \"höst\" $\\rightarrow$ \"iatu\"\n",
    "\n",
    "&nbsp; b) &nbsp; decrypt the message\n",
    "\n",
    "&nbsp; c) &nbsp; let the user choose either encryption or decryption."
   ]
  },
  {
   "cell_type": "code",
   "execution_count": 175,
   "metadata": {},
   "outputs": [
    {
     "name": "stdout",
     "output_type": "stream",
     "text": [
      " Encrypted word: 'Cbunbo'\n",
      "Decrypted word: 'Batman'\n"
     ]
    }
   ],
   "source": [
    "message = \"Batman\"\n",
    "encrypted = \"\"\n",
    "decrypted = \"\"\n",
    "\n",
    "for i in message:\n",
    "    if i.lower() == \"z\":\n",
    "        new_i = \"a\" if i.islower() else \"A\"\n",
    "        encrypted += new_i\n",
    "    else:\n",
    "        new_i = chr(ord(i) + 1)\n",
    "        encrypted += new_i\n",
    "print(f\" Encrypted word: '{encrypted}'\")\n",
    "\n",
    "for y in encrypted:\n",
    "    next_char2 = chr(ord(y) - 1)\n",
    "    decrypted += next_char2\n",
    "print(f\"Decrypted word: '{decrypted}'\")\n",
    "# Ändra alla a till z, alla orginal a är ändå b.\n"
   ]
  },
  {
   "cell_type": "markdown",
   "metadata": {},
   "source": [
    "---\n",
    "\n",
    "pr0fez Giang\n",
    "\n",
    "[LinkedIn][linkedIn_pr0fez]\n",
    "\n",
    "[GitHub portfolio][github_portfolio]\n",
    "\n",
    "[linkedIn_pr0fez]: https://www.linkedin.com/in/pr0fezgiang/\n",
    "[github_portfolio]: https://github.com/pr0fez/Portfolio-pr0fez-Giang\n",
    "\n",
    "---"
   ]
  }
 ],
 "metadata": {
  "kernelspec": {
   "display_name": "Python 3.9.6 64-bit",
   "language": "python",
   "name": "python3"
  },
  "language_info": {
   "codemirror_mode": {
    "name": "ipython",
    "version": 3
   },
   "file_extension": ".py",
   "mimetype": "text/x-python",
   "name": "python",
   "nbconvert_exporter": "python",
   "pygments_lexer": "ipython3",
   "version": "3.11.9"
  },
  "orig_nbformat": 4,
  "vscode": {
   "interpreter": {
    "hash": "0da836a34428266995a795f1e1e27b816fa1c02f148d9728b3fbbbc5459afca6"
   }
  }
 },
 "nbformat": 4,
 "nbformat_minor": 2
}
