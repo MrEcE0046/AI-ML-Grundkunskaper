{
 "cells": [
  {
   "cell_type": "markdown",
   "metadata": {},
   "source": [
    "\n",
    "<a href=\"https://colab.research.google.com/github/pr0fez/AI24-Programmering/blob/master/Exercises/01-if-statement-exercise.ipynb\" target=\"_parent\"><img align=\"left\" src=\"https://colab.research.google.com/assets/colab-badge.svg\" alt=\"Open In Colab\"/></a> &nbsp; to see hints and answers."
   ]
  },
  {
   "cell_type": "markdown",
   "metadata": {},
   "source": [
    "# if statements exercises\n",
    "\n",
    "---\n",
    "These are introductory exercises in Python with focus in **if** statement.\n",
    "\n",
    "<p class = \"alert alert-info\" role=\"alert\"><b>Remember</b> to use <b>descriptive variable names</b> in order to get readable code </p>\n",
    "\n",
    "<p class = \"alert alert-info\" role=\"alert\"><b>Remember</b> to format your answers in a neat way using <b>f-strings</b>\n",
    "\n",
    "<p class = \"alert alert-info\" role=\"alert\"><b>Remember</b> to format your input questions in a pedagogical way to guide the user\n",
    "\n",
    "The number of stars (\\*), (\\*\\*), (\\*\\*\\*) denotes the difficulty level of the task\n",
    "\n",
    "---"
   ]
  },
  {
   "cell_type": "markdown",
   "metadata": {},
   "source": [
    "## 1. Check sign (*)\n",
    "\n",
    "Ask the user to input a number and check if this number is **positive**, **negative** or **zero** and print it out."
   ]
  },
  {
   "cell_type": "code",
   "execution_count": 5,
   "metadata": {},
   "outputs": [
    {
     "name": "stdout",
     "output_type": "stream",
     "text": [
      "Number is negative\n"
     ]
    }
   ],
   "source": [
    "\n",
    "number = int(input())\n",
    "if number > 0:\n",
    "    print(\"Number is positive!\")\n",
    "elif number == 0:\n",
    "    print(\"Number is Zero\")\n",
    "else:\n",
    "    print(\"Number is negative\")\n"
   ]
  },
  {
   "cell_type": "markdown",
   "metadata": {},
   "source": [
    "---\n",
    "## 2. Smallest (*)\n",
    "Ask the user to input two numbers and check which one is the smallest and print it out.   "
   ]
  },
  {
   "cell_type": "code",
   "execution_count": 18,
   "metadata": {},
   "outputs": [
    {
     "name": "stdout",
     "output_type": "stream",
     "text": [
      "Ditt lägsta nummer var 1.\n"
     ]
    }
   ],
   "source": [
    "num1 = input(\"Type a number: \")\n",
    "num2 = input(\"Type a second number: \")\n",
    "if num1 > num2:\n",
    "    print(f\"Ditt lägsta nummer är {num2}.\")\n",
    "else:\n",
    "    print(f\"Ditt lägsta nummer är {num1}.\")\n",
    "    \n"
   ]
  },
  {
   "cell_type": "markdown",
   "metadata": {},
   "source": [
    "---\n",
    "## 3. Right angle (*)\n",
    "\n",
    "Ask the user to input three angles and check if the triangle has a right angle. Your code should make sure that all three angles are valid and make up a triangle.\n",
    "\n",
    "<img align=\"left\" src=\"../assets/triangle_angles.png\" width=\"200\"/>"
   ]
  },
  {
   "cell_type": "code",
   "execution_count": 9,
   "metadata": {},
   "outputs": [
    {
     "name": "stdout",
     "output_type": "stream",
     "text": [
      "Good job, that's a good triangle!\n",
      "The triangle has det right angle.\n"
     ]
    }
   ],
   "source": [
    "while True:\n",
    "    vinkel_a = int(input(\"Let's make an triangle. Please type an angle: \"))\n",
    "    vinkel_b = int(input(\"Type a second angle: \"))\n",
    "    vinkel_c = int(input(\"Type a third and last angle: \"))\n",
    "    sum = vinkel_a + vinkel_b + vinkel_c\n",
    "\n",
    "    if sum == 180:\n",
    "        print(\"Good job, that's a good triangle!\")\n",
    "    \n",
    "    if sum < 180:\n",
    "        print(\"The angles you typed is to small\")\n",
    "        break\n",
    "    if sum > 180:\n",
    "        print(\"The angles you typed is to wide.\")\n",
    "        break\n",
    "\n",
    "    elif vinkel_a or vinkel_b or vinkel_c == 90:\n",
    "        print(\"The triangle has det right angle.\")\n",
    "        break\n",
    "\n",
    "\n",
    "\n",
    "    \n"
   ]
  },
  {
   "cell_type": "markdown",
   "metadata": {},
   "source": [
    "----\n",
    "## 4. Medicine (*)\n",
    "\n",
    "The information in the following table is stated in a medicine package. Also it is stated that for children weight is more important than age.\n",
    "\n",
    "<table align=\"left\">\n",
    "<thead>\n",
    "    <tr>\n",
    "        <th></th>\n",
    "        <th>Age</th>\n",
    "        <th>Number of pills</th>\n",
    "    </tr>\n",
    "</thead>\n",
    "\n",
    "<tbody>\n",
    "  <tr>\n",
    "    <td>Adults & adolescent <br>over 40 kg</td>\n",
    "    <td>over 12 years</td>\n",
    "    <td>1-2</td>\n",
    "  </tr>\n",
    "\n",
    "  <tr>\n",
    "    <td>Children 26-40 kg</td>\n",
    "    <td>7-12 years</td>\n",
    "    <td>1/2-1</td>\n",
    "  </tr>\n",
    "\n",
    "  <tr>\n",
    "    <td>Children 15-25 kg</td>\n",
    "    <td>3-7 years</td>\n",
    "    <td>1/2</td>\n",
    "  </tr>\n",
    "</tbody>\n",
    "</table>"
   ]
  },
  {
   "cell_type": "markdown",
   "metadata": {},
   "source": [
    "Let the user input an **age** and a **weight**, the program should recommend the number of pills for the user."
   ]
  },
  {
   "cell_type": "code",
   "execution_count": 14,
   "metadata": {},
   "outputs": [
    {
     "name": "stdout",
     "output_type": "stream",
     "text": [
      "You have typed a invalid parameter, please try again.\n"
     ]
    }
   ],
   "source": [
    "age = int(input(\"Age: \"))\n",
    "weight = int(input(\"Weight: \"))\n",
    "\n",
    "if age >= 12 and weight >= 40:\n",
    "    print(\"Recomended number of pills is 2.\")\n",
    "    \n",
    "\n",
    "elif age <= 7 and weight <= 25:\n",
    "        print(\"Recomended number of pills is 1/2.\")\n",
    "        \n",
    "\n",
    "elif age > 7 and age < 12 and weight >= 26 and weight < 40: \n",
    "        print(\"Recomended number of pills is 1/2 - 1.\")\n",
    "else:\n",
    "    print(\"You have typed a invalid parameter, please try again.\")"
   ]
  },
  {
   "cell_type": "markdown",
   "metadata": {},
   "source": [
    "---\n",
    "## 5. Divisible (*)\n",
    "Let the user input a number. Check if the number is\n",
    "<ol type=\"a\">\n",
    "  <li>even or odd</li>\n",
    "  <li>is divisible by 5</li>\n",
    "  <li>is divisble by 5 and odd</li>\n",
    "</ol> "
   ]
  },
  {
   "cell_type": "code",
   "execution_count": 1,
   "metadata": {},
   "outputs": [
    {
     "name": "stdout",
     "output_type": "stream",
     "text": [
      "Even number!\n",
      "Number is devisible by 5\n"
     ]
    }
   ],
   "source": [
    "# Inte klar ännu\n",
    "user_input = int(input(\"Type a number: \"))\n",
    "\n",
    "if user_input % 2 == 0:\n",
    "    print(\"Even number!\")\n",
    "else:\n",
    "    print(\"Odd number!\")\n",
    "\n",
    "if user_input % 5 == 0:\n",
    "    print(\"Number is devisible by 5\")\n",
    "\n",
    "quit()"
   ]
  },
  {
   "cell_type": "markdown",
   "metadata": {},
   "source": [
    "---\n",
    "## 6. Luggage size (*)\n",
    "\n",
    "The maximum allowed luggage size for boarding an airplane is: \n",
    "- weight: 8kg\n",
    "- dimensions: 55x40x23cm (length x width x height) \n",
    "\n",
    "Let the user input weight, length, width and height of the luggage. The program should check if the luggage is allowed or not."
   ]
  },
  {
   "cell_type": "code",
   "execution_count": 1,
   "metadata": {},
   "outputs": [
    {
     "name": "stdout",
     "output_type": "stream",
     "text": [
      "Aproved weight.\n",
      "50.6\n",
      "Aproved luggage size.\n"
     ]
    }
   ],
   "source": [
    "weight = int(input(\"Weight: \"))\n",
    "\n",
    "if weight < 8:\n",
    "    print(\"Aproved weight.\")\n",
    "else:\n",
    "    print(\"Your luggage is to heavy.\")\n",
    "    # Hur stoppar man här ifrån?\n",
    "\n",
    "lenght = float(input(\"Lenght: \"))\n",
    "widht = float(input(\"Width: \"))\n",
    "height = float(input(\"Height: \"))\n",
    "\n",
    "volym = (lenght * widht * height)/1000\n",
    "print(volym)\n",
    "\n",
    "if volym <= 50.6:\n",
    "    print(\"Aproved luggage size.\")\n",
    "\n",
    "else:\n",
    "    print(\"Your luggage is to big.\")"
   ]
  },
  {
   "cell_type": "markdown",
   "metadata": {},
   "source": [
    "---\n",
    "\n",
    "pr0fez Giang\n",
    "\n",
    "[LinkedIn][linkedIn_pr0fez]\n",
    "\n",
    "[GitHub portfolio][github_portfolio]\n",
    "\n",
    "[linkedIn_pr0fez]: https://www.linkedin.com/in/pr0fezgiang/\n",
    "[github_portfolio]: https://github.com/pr0fez/Portfolio-pr0fez-Giang\n",
    "\n",
    "---"
   ]
  }
 ],
 "metadata": {
  "kernelspec": {
   "display_name": "Python 3.9.6 64-bit",
   "language": "python",
   "name": "python3"
  },
  "language_info": {
   "codemirror_mode": {
    "name": "ipython",
    "version": 3
   },
   "file_extension": ".py",
   "mimetype": "text/x-python",
   "name": "python",
   "nbconvert_exporter": "python",
   "pygments_lexer": "ipython3",
   "version": "3.11.9"
  },
  "orig_nbformat": 4,
  "vscode": {
   "interpreter": {
    "hash": "0da836a34428266995a795f1e1e27b816fa1c02f148d9728b3fbbbc5459afca6"
   }
  }
 },
 "nbformat": 4,
 "nbformat_minor": 2
}
