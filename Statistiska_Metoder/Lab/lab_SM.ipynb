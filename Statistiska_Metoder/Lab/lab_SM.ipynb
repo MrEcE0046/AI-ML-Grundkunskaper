{
 "cells": [
  {
   "cell_type": "code",
   "execution_count": 11,
   "metadata": {},
   "outputs": [
    {
     "data": {
      "text/html": [
       "<div>\n",
       "<style scoped>\n",
       "    .dataframe tbody tr th:only-of-type {\n",
       "        vertical-align: middle;\n",
       "    }\n",
       "\n",
       "    .dataframe tbody tr th {\n",
       "        vertical-align: top;\n",
       "    }\n",
       "\n",
       "    .dataframe thead th {\n",
       "        text-align: right;\n",
       "    }\n",
       "</style>\n",
       "<table border=\"1\" class=\"dataframe\">\n",
       "  <thead>\n",
       "    <tr style=\"text-align: right;\">\n",
       "      <th></th>\n",
       "      <th>Unnamed: 0</th>\n",
       "      <th>Flow</th>\n",
       "      <th>Kinematic</th>\n",
       "      <th>Geometric</th>\n",
       "      <th>Inertial</th>\n",
       "      <th>Observer</th>\n",
       "    </tr>\n",
       "  </thead>\n",
       "  <tbody>\n",
       "    <tr>\n",
       "      <th>0</th>\n",
       "      <td>0</td>\n",
       "      <td>-17.047687</td>\n",
       "      <td>-0.584344</td>\n",
       "      <td>-6.896327</td>\n",
       "      <td>-14.323560</td>\n",
       "      <td>0.0</td>\n",
       "    </tr>\n",
       "    <tr>\n",
       "      <th>1</th>\n",
       "      <td>1</td>\n",
       "      <td>-17.043179</td>\n",
       "      <td>-0.584344</td>\n",
       "      <td>-6.896327</td>\n",
       "      <td>-14.323560</td>\n",
       "      <td>0.0</td>\n",
       "    </tr>\n",
       "    <tr>\n",
       "      <th>2</th>\n",
       "      <td>2</td>\n",
       "      <td>-17.043179</td>\n",
       "      <td>-0.584344</td>\n",
       "      <td>-6.896327</td>\n",
       "      <td>-14.323560</td>\n",
       "      <td>0.0</td>\n",
       "    </tr>\n",
       "    <tr>\n",
       "      <th>3</th>\n",
       "      <td>3</td>\n",
       "      <td>-11.182193</td>\n",
       "      <td>1.242506</td>\n",
       "      <td>-5.069476</td>\n",
       "      <td>-11.583284</td>\n",
       "      <td>0.0</td>\n",
       "    </tr>\n",
       "    <tr>\n",
       "      <th>4</th>\n",
       "      <td>4</td>\n",
       "      <td>-11.184430</td>\n",
       "      <td>1.242506</td>\n",
       "      <td>-5.069476</td>\n",
       "      <td>-11.583284</td>\n",
       "      <td>0.0</td>\n",
       "    </tr>\n",
       "  </tbody>\n",
       "</table>\n",
       "</div>"
      ],
      "text/plain": [
       "   Unnamed: 0       Flow  Kinematic  Geometric   Inertial  Observer\n",
       "0           0 -17.047687  -0.584344  -6.896327 -14.323560       0.0\n",
       "1           1 -17.043179  -0.584344  -6.896327 -14.323560       0.0\n",
       "2           2 -17.043179  -0.584344  -6.896327 -14.323560       0.0\n",
       "3           3 -11.182193   1.242506  -5.069476 -11.583284       0.0\n",
       "4           4 -11.184430   1.242506  -5.069476 -11.583284       0.0"
      ]
     },
     "execution_count": 11,
     "metadata": {},
     "output_type": "execute_result"
    }
   ],
   "source": [
    "import pandas as pd\n",
    "import numpy as np\n",
    "from lab_SM import LinearRegression\n",
    "\n",
    "df = pd.read_csv(\"Small-diameter-flow.csv\")\n",
    "\n",
    "df.head()"
   ]
  },
  {
   "cell_type": "code",
   "execution_count": 12,
   "metadata": {},
   "outputs": [
    {
     "data": {
      "text/plain": [
       "Unnamed: 0    0.140553\n",
       "Flow          1.000000\n",
       "Kinematic     0.863403\n",
       "Geometric     0.995794\n",
       "Inertial      0.903310\n",
       "Observer      0.181490\n",
       "Name: Flow, dtype: float64"
      ]
     },
     "execution_count": 12,
     "metadata": {},
     "output_type": "execute_result"
    }
   ],
   "source": [
    "df.corr()[\"Flow\"]"
   ]
  },
  {
   "cell_type": "code",
   "execution_count": 13,
   "metadata": {},
   "outputs": [],
   "source": [
    "Y = df[\"Flow\"]\n",
    "X = np.column_stack([np.ones(Y.shape[0]),df[\"Kinematic\"], df[\"Geometric\"], df[\"Inertial\"], df[\"Observer\"]])"
   ]
  },
  {
   "cell_type": "code",
   "execution_count": 14,
   "metadata": {},
   "outputs": [
    {
     "data": {
      "text/plain": [
       "(0.006272292538356659,\n",
       " 1.2105524599028352,\n",
       " 425.14419302220585,\n",
       " 423.933640562303,\n",
       " 0.9971526073276518,\n",
       " 0.07919780639864124,\n",
       " array([-2.58376909,  0.87000771,  3.60315069, -0.75188958,  0.0168805 ]),\n",
       " 4,\n",
       " 198)"
      ]
     },
     "execution_count": 14,
     "metadata": {},
     "output_type": "execute_result"
    }
   ],
   "source": [
    "\"\"\" Beräknar de olika parametrarna \"\"\"\n",
    "\n",
    "b = np.linalg.pinv(X.T @ X) @ X.T @ Y\n",
    "n = Y.shape[0]\n",
    "d = len(b)-1\n",
    "SSE = np.sum(np.square(Y - (X @ b)))\n",
    "SST = np.sum(np.square(Y - np.mean(Y)))\n",
    "SSR = SST - SSE\n",
    "R2 = 1 - SSE/SST\n",
    "var = SSE/(n-d-1)\n",
    "S = np.sqrt(var)\n",
    "var, SSE, SST, SSR, R2, S, b, d, n"
   ]
  },
  {
   "cell_type": "code",
   "execution_count": 15,
   "metadata": {},
   "outputs": [],
   "source": [
    "\"\"\" Skapar en instans av klassen LinearRegression \"\"\"\n",
    "LR = LinearRegression(X, Y)"
   ]
  },
  {
   "cell_type": "code",
   "execution_count": 16,
   "metadata": {},
   "outputs": [
    {
     "name": "stdout",
     "output_type": "stream",
     "text": [
      "The sample size is: 198\n",
      "The variance is: 0.006272292538356659\n",
      "The standard deviation: 0.07919780639864124\n",
      "The significance of the regression is: 1.7265182348381655e-139\n",
      "The R2 is: 0.9971526073277638\n"
     ]
    }
   ],
   "source": [
    "print(f\"The sample size is: {LR.n}\")\n",
    "print(f\"The variance is: {LR.var()}\")\n",
    "print(f\"The standard deviation: {LR.std_dev()}\")\n",
    "print(f\"The significance of the regression is: {LR.significance_regression()}\")\n",
    "print(f\"The R2 is: {LR.relevance()}\")"
   ]
  }
 ],
 "metadata": {
  "kernelspec": {
   "display_name": ".venv",
   "language": "python",
   "name": "python3"
  },
  "language_info": {
   "codemirror_mode": {
    "name": "ipython",
    "version": 3
   },
   "file_extension": ".py",
   "mimetype": "text/x-python",
   "name": "python",
   "nbconvert_exporter": "python",
   "pygments_lexer": "ipython3",
   "version": "3.11.9"
  }
 },
 "nbformat": 4,
 "nbformat_minor": 2
}
