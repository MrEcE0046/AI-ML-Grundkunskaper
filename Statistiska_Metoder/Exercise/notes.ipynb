{
 "cells": [
  {
   "cell_type": "markdown",
   "metadata": {},
   "source": [
    "A 100(1-$\\alpha$) % confidence interval for a parameter\n",
    "$\\Theta$ is arandom interval [L1,L2] such that $P[L1\\leq \\Theta \\leq L2] = 1-\\alpha$ regardless of the value of $\\Theta$. "
   ]
  },
  {
   "cell_type": "markdown",
   "metadata": {},
   "source": [
    "Let the following be a random variable:\n",
    "$Z = \\frac{X - \\mu}{\\sigma / \\sqrt{n}}$ if $\\mu$ is known then the variable follow a standard normal disribution. "
   ]
  },
  {
   "cell_type": "markdown",
   "metadata": {},
   "source": [
    "A 100($1-\\sigma$)% interval on $\\mu$ when $\\sigma^2$ is known.\n",
    "\n",
    "Let X1, X2, .... , Xn be a random sample from a normal distribution. $X\\pm Z_{\\alpha/2}\\sigma \\sqrt{n}$"
   ]
  },
  {
   "cell_type": "markdown",
   "metadata": {},
   "source": [
    "Central limit Theorem\n",
    "Let X1, X2, .... , Xn be a random sample of size n from a distribution with mean $\\mu$ and varians $\\sigma^2$. Then, for large, X is approximetery normal with mean $\\mu$ and variance $\\sigma^2$.\n",
    "Furthermore $\\frac{X - \\mu}{\\sigma / \\sqrt{n}}$ is approx, standard normal."
   ]
  },
  {
   "cell_type": "markdown",
   "metadata": {},
   "source": [
    "Distributions:\n",
    "\n",
    "1. Geometric distribution\n",
    "* The experiment consist of a series of trials.\n",
    "    The outcome of each trial is either \"success\" or \"failure\", (s) or (f).\n",
    "    Sucha trial is known as a Bernoulli- trial.\n",
    "* The trials are identical and independent. \n",
    "* The random variable X dinotes the number of trials needed to obtain the first succsses. "
   ]
  },
  {
   "cell_type": "markdown",
   "metadata": {},
   "source": [
    "S={s, fs, ffs, fffs,....}\n",
    "P[x=1] = probability of success on first trial = p\n",
    "\n",
    "P[x=2] = prob od failure on first trial and success on second = (1-p) = p \n",
    "\n",
    "P[x=3] = $(1-p)^2 p$\n",
    "\n",
    "Probabilityfunction (pf)\n",
    "Täthetsfuntion = $f(x) = (1-p)^{x-1} p$ \n",
    "\n",
    "Cumulative distribution function (df):\n",
    "F(x) = $1-q^{[x]},  q=1-p$\n",
    "\n",
    "Geometric term in:\n",
    "$\\sum\\limits^{\\infty}_{x-1}(1-P)^{x-1}p=\\frac{P}{1-(1-P)=\\frac{1}{}}$\n",
    "\n",
    "moments: (for geometric distributions):\n",
    "E[x] = 1/p\n",
    "\n",
    "Var X = q/$p^2$ , q=1-p (gäller hela populationen)\n",
    "\n",
    "$\\sigma = \\sqrt{VarX}$\n",
    "\n",
    "\n"
   ]
  },
  {
   "cell_type": "markdown",
   "metadata": {},
   "source": [
    "Binomial distribution\n",
    "\n",
    "1. The experiment consist of a FIXED number n of Bernoulli trials, with outcome \"success\" or \"failure\"\n",
    "2. The random veriable X denotes the number of successes obtained in the n trials.\n",
    "\n",
    "EX. for n=3 = S= {fff, sff, ssf, sss, sfs, fss, fsf}\n",
    "\n",
    "* (fff) = $(1-p)^3$\n",
    "* (sff) = $p(1-p)^2$\n",
    "\n",
    "P[X=x] = C(x)$p^x (1-p)^{n-x}$ c(x) = $(\\frac{n}{x})$ n över x\n",
    "\n",
    "$f(x) = (n över x)p^x (1-p)^{n-x}$\n",
    "\n",
    "$F(x)=\\sum\\limits^{t}_{x=0} (növerx)p^x (1-p)^{n-x}$\n",
    "\n",
    "moments: \n",
    "\n",
    "E[X] = $\\mu$ = np\n",
    "\n",
    "Var X = npq , q=(1-p)"
   ]
  },
  {
   "cell_type": "markdown",
   "metadata": {},
   "source": [
    "Probability vs Likelihood\n",
    "(sannolikhet) vs (limlighet)\n",
    "\n",
    "Probability is the value of the p.f at the point.\n",
    "\n",
    "Liklihood: \"How likly is the value to belong to a given distribution?\"\n"
   ]
  },
  {
   "cell_type": "markdown",
   "metadata": {},
   "source": [
    "Some useful quantities:\n",
    "\n",
    "SSE = RSS = $\\sum((Y_{i}-\\hat{f}(X))^2$\n",
    "\n",
    "Syy = TSS = $\\sum(Y_{i}-\\hat{Y})^2$\n",
    "\n",
    "Sxx = $\\sum\\limits^{n}_{i=1}(x-\\hat{x})^2$\n",
    "\n",
    "Sxy = $\\sum(x-\\hat{x})(Y-\\hat{y})$\n",
    "\n",
    "SSR = SSE - Syy $\\rightarrow$ Syy = SSE + SSR\n",
    "\n",
    "$R^2$ = 1- $\\frac{SSE}{Syy}$ = 1- $\\frac{RSS}{TSS}$"
   ]
  },
  {
   "cell_type": "markdown",
   "metadata": {},
   "source": [
    "### Training and validation\n",
    "\n",
    "In ML we dont really care about the past (statistically). \n",
    "We split our data in two (or even three) sets. \n",
    "* Ex. data = train | validation\n",
    "\n",
    "Now we need comparison of means between samples (training set and validation set).\n"
   ]
  },
  {
   "cell_type": "markdown",
   "metadata": {},
   "source": [
    "$E_{MSE}$: Expectaion for the mean of SSE\n",
    "\n",
    "$MSE = \\frac{1}{n}SSE$\n",
    "\n",
    "$E_{MSE}(Y-\\hat{Y})$: Expectaion for different of mean between Y and our aproximation.\n",
    "\n",
    "$E_{MSE}(Y - \\hat{Y})^2 = Var(\\hat{Y}) + Bias(\\hat{Y})^2 + Var(\\epsilon)$\n",
    "\n",
    "Bias = precison (sämre bias = sämre precision)\n",
    "\n",
    "\n"
   ]
  },
  {
   "cell_type": "markdown",
   "metadata": {},
   "source": [
    "RSE: $\\sqrt{\\frac{1}{n-2}SSE}$\n",
    "\n",
    "RSE is run with the model we trained our new data (not even the validation)\n",
    "\n",
    "E.x\n",
    "\n",
    "train, validation,test\n",
    "\n",
    "train,validation = during training\n",
    "\n",
    "test = RSE for qualitytest\n",
    "\n",
    "\n",
    "\n"
   ]
  },
  {
   "cell_type": "markdown",
   "metadata": {},
   "source": [
    "Feature engineering\n",
    "\n",
    "Y =$\\beta_{0}+ \\beta_{1}$\n",
    "Y = B0 + B1X1+ .... BpXp\n",
    "\n",
    "1. Test significance of predictors, remove those that fail the test.\n",
    "2. Add new features (pissible from other data source)\n",
    "3. Break the rules! Add non-linearity.\n",
    "\n",
    "f(x_1, x_2) = \\beta_{0} + \\beta_{1}X_{1}\n",
    "\n",
    "f(x1, x2, x1, x2) = b0 + b1x1 + b2x2 + b3x3"
   ]
  },
  {
   "cell_type": "markdown",
   "metadata": {},
   "source": [
    "$\\hat{f}(x) \\rightarrow numbers (real)$ kallas regreation\n",
    "\n",
    "$\\hat{f}(x)$ = labels (0,1,2)(red, green, purple) kallas classification\n",
    "* labels are qualitative, categorical data\n"
   ]
  }
 ],
 "metadata": {
  "language_info": {
   "name": "python"
  }
 },
 "nbformat": 4,
 "nbformat_minor": 2
}
