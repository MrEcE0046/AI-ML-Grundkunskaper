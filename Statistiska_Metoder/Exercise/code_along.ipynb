{
 "cells": [
  {
   "cell_type": "code",
   "execution_count": 12,
   "metadata": {},
   "outputs": [
    {
     "data": {
      "text/html": [
       "<div>\n",
       "<style scoped>\n",
       "    .dataframe tbody tr th:only-of-type {\n",
       "        vertical-align: middle;\n",
       "    }\n",
       "\n",
       "    .dataframe tbody tr th {\n",
       "        vertical-align: top;\n",
       "    }\n",
       "\n",
       "    .dataframe thead th {\n",
       "        text-align: right;\n",
       "    }\n",
       "</style>\n",
       "<table border=\"1\" class=\"dataframe\">\n",
       "  <thead>\n",
       "    <tr style=\"text-align: right;\">\n",
       "      <th></th>\n",
       "      <th>TV</th>\n",
       "      <th>radio</th>\n",
       "      <th>newspaper</th>\n",
       "      <th>sales</th>\n",
       "    </tr>\n",
       "  </thead>\n",
       "  <tbody>\n",
       "    <tr>\n",
       "      <th>1</th>\n",
       "      <td>230.1</td>\n",
       "      <td>37.8</td>\n",
       "      <td>69.2</td>\n",
       "      <td>22.1</td>\n",
       "    </tr>\n",
       "    <tr>\n",
       "      <th>2</th>\n",
       "      <td>44.5</td>\n",
       "      <td>39.3</td>\n",
       "      <td>45.1</td>\n",
       "      <td>10.4</td>\n",
       "    </tr>\n",
       "    <tr>\n",
       "      <th>3</th>\n",
       "      <td>17.2</td>\n",
       "      <td>45.9</td>\n",
       "      <td>69.3</td>\n",
       "      <td>9.3</td>\n",
       "    </tr>\n",
       "    <tr>\n",
       "      <th>4</th>\n",
       "      <td>151.5</td>\n",
       "      <td>41.3</td>\n",
       "      <td>58.5</td>\n",
       "      <td>18.5</td>\n",
       "    </tr>\n",
       "    <tr>\n",
       "      <th>5</th>\n",
       "      <td>180.8</td>\n",
       "      <td>10.8</td>\n",
       "      <td>58.4</td>\n",
       "      <td>12.9</td>\n",
       "    </tr>\n",
       "  </tbody>\n",
       "</table>\n",
       "</div>"
      ],
      "text/plain": [
       "      TV  radio  newspaper  sales\n",
       "1  230.1   37.8       69.2   22.1\n",
       "2   44.5   39.3       45.1   10.4\n",
       "3   17.2   45.9       69.3    9.3\n",
       "4  151.5   41.3       58.5   18.5\n",
       "5  180.8   10.8       58.4   12.9"
      ]
     },
     "execution_count": 12,
     "metadata": {},
     "output_type": "execute_result"
    }
   ],
   "source": [
    "import pandas as pd\n",
    "\n",
    "adv = pd.read_csv(\"Advertising.csv\", index_col=0)\n",
    "adv.head()"
   ]
  },
  {
   "cell_type": "code",
   "execution_count": 13,
   "metadata": {},
   "outputs": [
    {
     "data": {
      "text/plain": [
       "array([[  1. , 230.1],\n",
       "       [  1. ,  44.5],\n",
       "       [  1. ,  17.2],\n",
       "       [  1. , 151.5],\n",
       "       [  1. , 180.8],\n",
       "       [  1. ,   8.7],\n",
       "       [  1. ,  57.5],\n",
       "       [  1. , 120.2],\n",
       "       [  1. ,   8.6],\n",
       "       [  1. , 199.8],\n",
       "       [  1. ,  66.1],\n",
       "       [  1. , 214.7],\n",
       "       [  1. ,  23.8],\n",
       "       [  1. ,  97.5],\n",
       "       [  1. , 204.1],\n",
       "       [  1. , 195.4],\n",
       "       [  1. ,  67.8],\n",
       "       [  1. , 281.4],\n",
       "       [  1. ,  69.2],\n",
       "       [  1. , 147.3],\n",
       "       [  1. , 218.4],\n",
       "       [  1. , 237.4],\n",
       "       [  1. ,  13.2],\n",
       "       [  1. , 228.3],\n",
       "       [  1. ,  62.3],\n",
       "       [  1. , 262.9],\n",
       "       [  1. , 142.9],\n",
       "       [  1. , 240.1],\n",
       "       [  1. , 248.8],\n",
       "       [  1. ,  70.6],\n",
       "       [  1. , 292.9],\n",
       "       [  1. , 112.9],\n",
       "       [  1. ,  97.2],\n",
       "       [  1. , 265.6],\n",
       "       [  1. ,  95.7],\n",
       "       [  1. , 290.7],\n",
       "       [  1. , 266.9],\n",
       "       [  1. ,  74.7],\n",
       "       [  1. ,  43.1],\n",
       "       [  1. , 228. ],\n",
       "       [  1. , 202.5],\n",
       "       [  1. , 177. ],\n",
       "       [  1. , 293.6],\n",
       "       [  1. , 206.9],\n",
       "       [  1. ,  25.1],\n",
       "       [  1. , 175.1],\n",
       "       [  1. ,  89.7],\n",
       "       [  1. , 239.9],\n",
       "       [  1. , 227.2],\n",
       "       [  1. ,  66.9],\n",
       "       [  1. , 199.8],\n",
       "       [  1. , 100.4],\n",
       "       [  1. , 216.4],\n",
       "       [  1. , 182.6],\n",
       "       [  1. , 262.7],\n",
       "       [  1. , 198.9],\n",
       "       [  1. ,   7.3],\n",
       "       [  1. , 136.2],\n",
       "       [  1. , 210.8],\n",
       "       [  1. , 210.7],\n",
       "       [  1. ,  53.5],\n",
       "       [  1. , 261.3],\n",
       "       [  1. , 239.3],\n",
       "       [  1. , 102.7],\n",
       "       [  1. , 131.1],\n",
       "       [  1. ,  69. ],\n",
       "       [  1. ,  31.5],\n",
       "       [  1. , 139.3],\n",
       "       [  1. , 237.4],\n",
       "       [  1. , 216.8],\n",
       "       [  1. , 199.1],\n",
       "       [  1. , 109.8],\n",
       "       [  1. ,  26.8],\n",
       "       [  1. , 129.4],\n",
       "       [  1. , 213.4],\n",
       "       [  1. ,  16.9],\n",
       "       [  1. ,  27.5],\n",
       "       [  1. , 120.5],\n",
       "       [  1. ,   5.4],\n",
       "       [  1. , 116. ],\n",
       "       [  1. ,  76.4],\n",
       "       [  1. , 239.8],\n",
       "       [  1. ,  75.3],\n",
       "       [  1. ,  68.4],\n",
       "       [  1. , 213.5],\n",
       "       [  1. , 193.2],\n",
       "       [  1. ,  76.3],\n",
       "       [  1. , 110.7],\n",
       "       [  1. ,  88.3],\n",
       "       [  1. , 109.8],\n",
       "       [  1. , 134.3],\n",
       "       [  1. ,  28.6],\n",
       "       [  1. , 217.7],\n",
       "       [  1. , 250.9],\n",
       "       [  1. , 107.4],\n",
       "       [  1. , 163.3],\n",
       "       [  1. , 197.6],\n",
       "       [  1. , 184.9],\n",
       "       [  1. , 289.7],\n",
       "       [  1. , 135.2],\n",
       "       [  1. , 222.4],\n",
       "       [  1. , 296.4],\n",
       "       [  1. , 280.2],\n",
       "       [  1. , 187.9],\n",
       "       [  1. , 238.2],\n",
       "       [  1. , 137.9],\n",
       "       [  1. ,  25. ],\n",
       "       [  1. ,  90.4],\n",
       "       [  1. ,  13.1],\n",
       "       [  1. , 255.4],\n",
       "       [  1. , 225.8],\n",
       "       [  1. , 241.7],\n",
       "       [  1. , 175.7],\n",
       "       [  1. , 209.6],\n",
       "       [  1. ,  78.2],\n",
       "       [  1. ,  75.1],\n",
       "       [  1. , 139.2],\n",
       "       [  1. ,  76.4],\n",
       "       [  1. , 125.7],\n",
       "       [  1. ,  19.4],\n",
       "       [  1. , 141.3],\n",
       "       [  1. ,  18.8],\n",
       "       [  1. , 224. ],\n",
       "       [  1. , 123.1],\n",
       "       [  1. , 229.5],\n",
       "       [  1. ,  87.2],\n",
       "       [  1. ,   7.8],\n",
       "       [  1. ,  80.2],\n",
       "       [  1. , 220.3],\n",
       "       [  1. ,  59.6],\n",
       "       [  1. ,   0.7],\n",
       "       [  1. , 265.2],\n",
       "       [  1. ,   8.4],\n",
       "       [  1. , 219.8],\n",
       "       [  1. ,  36.9],\n",
       "       [  1. ,  48.3],\n",
       "       [  1. ,  25.6],\n",
       "       [  1. , 273.7],\n",
       "       [  1. ,  43. ],\n",
       "       [  1. , 184.9],\n",
       "       [  1. ,  73.4],\n",
       "       [  1. , 193.7],\n",
       "       [  1. , 220.5],\n",
       "       [  1. , 104.6],\n",
       "       [  1. ,  96.2],\n",
       "       [  1. , 140.3],\n",
       "       [  1. , 240.1],\n",
       "       [  1. , 243.2],\n",
       "       [  1. ,  38. ],\n",
       "       [  1. ,  44.7],\n",
       "       [  1. , 280.7],\n",
       "       [  1. , 121. ],\n",
       "       [  1. , 197.6],\n",
       "       [  1. , 171.3],\n",
       "       [  1. , 187.8],\n",
       "       [  1. ,   4.1],\n",
       "       [  1. ,  93.9],\n",
       "       [  1. , 149.8],\n",
       "       [  1. ,  11.7],\n",
       "       [  1. , 131.7],\n",
       "       [  1. , 172.5],\n",
       "       [  1. ,  85.7],\n",
       "       [  1. , 188.4],\n",
       "       [  1. , 163.5],\n",
       "       [  1. , 117.2],\n",
       "       [  1. , 234.5],\n",
       "       [  1. ,  17.9],\n",
       "       [  1. , 206.8],\n",
       "       [  1. , 215.4],\n",
       "       [  1. , 284.3],\n",
       "       [  1. ,  50. ],\n",
       "       [  1. , 164.5],\n",
       "       [  1. ,  19.6],\n",
       "       [  1. , 168.4],\n",
       "       [  1. , 222.4],\n",
       "       [  1. , 276.9],\n",
       "       [  1. , 248.4],\n",
       "       [  1. , 170.2],\n",
       "       [  1. , 276.7],\n",
       "       [  1. , 165.6],\n",
       "       [  1. , 156.6],\n",
       "       [  1. , 218.5],\n",
       "       [  1. ,  56.2],\n",
       "       [  1. , 287.6],\n",
       "       [  1. , 253.8],\n",
       "       [  1. , 205. ],\n",
       "       [  1. , 139.5],\n",
       "       [  1. , 191.1],\n",
       "       [  1. , 286. ],\n",
       "       [  1. ,  18.7],\n",
       "       [  1. ,  39.5],\n",
       "       [  1. ,  75.5],\n",
       "       [  1. ,  17.2],\n",
       "       [  1. , 166.8],\n",
       "       [  1. , 149.7],\n",
       "       [  1. ,  38.2],\n",
       "       [  1. ,  94.2],\n",
       "       [  1. , 177. ],\n",
       "       [  1. , 283.6],\n",
       "       [  1. , 232.1]])"
      ]
     },
     "execution_count": 13,
     "metadata": {},
     "output_type": "execute_result"
    }
   ],
   "source": [
    "import numpy as np\n",
    "\n",
    "# Y is a response variable\n",
    "Y = sales = adv[\"sales\"]\n",
    "# Anta att regrigtionen av TV på Sales är ungefär linjär\n",
    "# Y = β0 + β1 X ( X = design matris)\n",
    "# Sales = β0 + β1 x TV\n",
    "# Modelspecifikationsmatrisenbehöver en 1:a i första kolumnen\n",
    "X = TV = np.column_stack([np.ones(Y.shape[0]), adv[\"TV\"]])\n",
    "X"
   ]
  },
  {
   "cell_type": "markdown",
   "metadata": {},
   "source": [
    "$$\n",
    "\\hat{\\beta} = b - (X^TX)^{-1}X^Ty\n",
    "$$\n",
    "\n"
   ]
  },
  {
   "cell_type": "code",
   "execution_count": 14,
   "metadata": {},
   "outputs": [
    {
     "data": {
      "text/plain": [
       "array([7.03259355, 0.04753664])"
      ]
     },
     "execution_count": 14,
     "metadata": {},
     "output_type": "execute_result"
    }
   ],
   "source": [
    "# pseudo-invers för prestanda\n",
    "b = np.linalg.pinv(X.T @ X) @ X.T @ Y\n",
    "b"
   ]
  },
  {
   "cell_type": "markdown",
   "metadata": {},
   "source": [
    "Efter regressionen får vi en skattare för ( y ):\n",
    "\n",
    "$$\n",
    "\\hat{y} = \\beta_0 + \\beta_1x\n",
    "$$"
   ]
  },
  {
   "cell_type": "code",
   "execution_count": 15,
   "metadata": {},
   "outputs": [
    {
     "data": {
      "text/plain": [
       "[<matplotlib.lines.Line2D at 0x24ad714f150>]"
      ]
     },
     "execution_count": 15,
     "metadata": {},
     "output_type": "execute_result"
    },
    {
     "data": {
      "image/png": "[encoded data removed]",
      "text/plain": [
       "<Figure size 640x480 with 1 Axes>"
      ]
     },
     "metadata": {},
     "output_type": "display_data"
    }
   ],
   "source": [
    "import matplotlib.pyplot as plt\n",
    "\n",
    "plt.scatter(X[:, 1], Y)\n",
    "x = np.linspace(0, 300)\n",
    "y_hat = b[0] + b[1]*x\n",
    "plt.plot(x, y_hat, c=\"red\")"
   ]
  },
  {
   "cell_type": "markdown",
   "metadata": {},
   "source": [
    "SSE = (y1 - )"
   ]
  },
  {
   "cell_type": "code",
   "execution_count": 17,
   "metadata": {},
   "outputs": [
    {
     "data": {
      "text/plain": [
       "2102.5305831313512"
      ]
     },
     "execution_count": 17,
     "metadata": {},
     "output_type": "execute_result"
    }
   ],
   "source": [
    "# RSS Residual Sum of Square\n",
    "# SSE Sum of Square Error\n",
    "# Samma sak\n",
    "\n",
    "#stickprovets storlek\n",
    "n = Y.shape[0]\n",
    "# antalet parametrar, bara TV i detta fallet, så 1\n",
    "v = X.shape[1] - 1\n",
    "\n",
    "SSE = np.sum(np.square(Y - (X @ b)))\n",
    "# Om kovariancen oberonde så är linjära kovariancen 0"
   ]
  },
  {
   "cell_type": "markdown",
   "metadata": {},
   "source": [
    "$\\texttt{CoV}(X, Y) = E[(X-\\mu_X)(Y-\\mu_Y)] = E[XY] - E[X] E[Y]$\n",
    "\n",
    "$S_{xy} \\rightarrow (X-\\mu_X)(Y-\\mu_Y)$\n",
    "\n",
    "Om X och Y är oberoende så är Cov(X,Y) = 0, men vi kan inte anta det omvända. Dvs Cov = 0 inte nödvämdigtvis att X och Y är oberonde, men de är åtminstånde inte linjärt beronde. \n",
    "\n",
    "Cov visar bar om de rör sig åt samma håll..."
   ]
  },
  {
   "cell_type": "markdown",
   "metadata": {},
   "source": [
    "En starkare egenskap är korrelation (Pearson coefficient of correlation), som är ett värde mellan -1 och 1 (inkl ändpunkterna). \n",
    "\n",
    "Låt $X$ $Y$ vara slumpvaiabler med medel $\\mu_Y$ respektive $\\mu_Y$ samt varianser $\\sigma_x^2$ och $\\sigma_x^2$. \n",
    "Korrelationen mellan $X$ $Y$ ges då av:\n",
    "\n",
    "\\begin{equation*}\n",
    "\\rho_{XY} = \\frac{\\texttt{Cov(X, Y)}}{\\sqrt{(\\texttt{Var} X) (\\texttt{Var} Y)}}\n",
    "\\end{equation*}\n",
    "\n",
    "Om Pearsoncofficienten är 1 eller -1 ($|\\rho_{XY}| = 1$) då har vi visat att det finns en ekvation: $Y = \\beta_0 + \\beta_1X$"
   ]
  },
  {
   "cell_type": "markdown",
   "metadata": {},
   "source": [
    "Standardfel (kring medlet)\n",
    "\n",
    "$$\\frac{\\sigma^2}{n}$$"
   ]
  },
  {
   "cell_type": "code",
   "execution_count": 21,
   "metadata": {},
   "outputs": [
    {
     "name": "stdout",
     "output_type": "stream",
     "text": [
      "Confidence interval on predictor beta1: 0.0475 +/- 0.0055\n"
     ]
    }
   ],
   "source": [
    "var = SSE/(n-v-1)\n",
    "S = np.sqrt(var) # residual standard error, alltså en uppskattning av standardfelet/ stickprovsavvikelsen\n",
    "S\n",
    "# Sum of squares Regression\n",
    "SSR = np.sum(b*(X.T @ Y)) - (np.square(np.sum(Y))/n) # riktiga värdet \n",
    "Syy = np.sum(np.square(Y)) - (np.square(np.sum(Y))/n) # uppskattninging av standardfelet\n",
    "Sxx = np.sum(np.square(X)) - (np.square(np.sum(X))/n)\n",
    "\n",
    "# standard error (of the mean)\n",
    "se = var / n\n",
    "\n",
    "# square of Standard error of Beta1 = vae/Sxx\n",
    "se_b = var/Sxx\n",
    "\n",
    "ci = (b[1], 2*np.sqrt(se_b))\n",
    "print(f\"Confidence interval on predictor beta1: {ci[0]:.4f} +/- {ci[1]:.4f}\")"
   ]
  },
  {
   "cell_type": "markdown",
   "metadata": {},
   "source": [
    "Detta är väldigt ungifärligt ett 95% interval (2sigma). Om vi kör regrissionen många gånger på delmängder av datan (som skall ha samma medel, dvs vara balanserade) så väntar vi oss att 95% av värderna hamnar mellan 0.052 och 0.042. "
   ]
  },
  {
   "cell_type": "code",
   "execution_count": 28,
   "metadata": {},
   "outputs": [
    {
     "data": {
      "text/plain": [
       "1.3455950562889917e-06"
      ]
     },
     "execution_count": 28,
     "metadata": {},
     "output_type": "execute_result"
    }
   ],
   "source": [
    "x_mean = np.mean(X[:,1])\n",
    "se_intercept = var *(1/n * (np.square(x_mean)/(np.square(np.sum(X-x_mean)))))\n",
    "se_intercept"
   ]
  },
  {
   "cell_type": "code",
   "execution_count": 25,
   "metadata": {},
   "outputs": [
    {
     "data": {
      "text/plain": [
       "7.03259354913008"
      ]
     },
     "execution_count": 25,
     "metadata": {},
     "output_type": "execute_result"
    }
   ],
   "source": [
    "# borde bli [6.130, 7.935]\n",
    "b[0]"
   ]
  },
  {
   "cell_type": "markdown",
   "metadata": {},
   "source": [
    "### Hypotestning\n",
    "Noll-hypotes:\n",
    "$H_0$: There is no relationship between X and Y.\n",
    "\n",
    "Alternative hypotes:\n",
    "\n",
    "$H_a$: There is relationship between X and Y.\n",
    "\n",
    "$H_0$: $\\beta 1 = 0 $\n",
    "\n",
    "$H_a$: $\\beta_1 \\neq 0 $\n",
    "\n",
    "T-statistiska för att testa relevans\n",
    "$$\n",
    "t = \\frac{\\hat{\\beta}_1 - \\mathbb{0}}{SE({\\hat{\\beta_1}})}\n",
    "$$"
   ]
  },
  {
   "cell_type": "code",
   "execution_count": 29,
   "metadata": {},
   "outputs": [
    {
     "data": {
      "text/plain": [
       "6303.106346187029"
      ]
     },
     "execution_count": 29,
     "metadata": {},
     "output_type": "execute_result"
    }
   ],
   "source": [
    "t = b[1]/se_b\n",
    "t # p värde"
   ]
  },
  {
   "cell_type": "markdown",
   "metadata": {},
   "source": [
    "ok, regrissionen är relevant men hur bra är den?\n",
    "\n",
    "$$\\hat{\\rho} = r = \\frac{S_{xy}}{\\sqrt{S_{xx}S_{yy}}}$$"
   ]
  },
  {
   "cell_type": "code",
   "execution_count": null,
   "metadata": {},
   "outputs": [],
   "source": [
    "kap 3\n",
    "3,62\n",
    "övn 8,9,10,11"
   ]
  }
 ],
 "metadata": {
  "kernelspec": {
   "display_name": ".venv",
   "language": "python",
   "name": "python3"
  },
  "language_info": {
   "codemirror_mode": {
    "name": "ipython",
    "version": 3
   },
   "file_extension": ".py",
   "mimetype": "text/x-python",
   "name": "python",
   "nbconvert_exporter": "python",
   "pygments_lexer": "ipython3",
   "version": "3.11.9"
  }
 },
 "nbformat": 4,
 "nbformat_minor": 2
}
