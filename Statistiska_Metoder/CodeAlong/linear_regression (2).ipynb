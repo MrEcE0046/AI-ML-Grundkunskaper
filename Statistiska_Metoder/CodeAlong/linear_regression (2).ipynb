{
 "cells": [
  {
   "cell_type": "code",
   "execution_count": 2,
   "metadata": {},
   "outputs": [
    {
     "ename": "FileNotFoundError",
     "evalue": "[Errno 2] No such file or directory: '/home/raphael/Documents/iths/data/Advertising.csv'",
     "output_type": "error",
     "traceback": [
      "\u001b[1;31m---------------------------------------------------------------------------\u001b[0m",
      "\u001b[1;31mFileNotFoundError\u001b[0m                         Traceback (most recent call last)",
      "Cell \u001b[1;32mIn[2], line 5\u001b[0m\n\u001b[0;32m      1\u001b[0m \u001b[38;5;28;01mimport\u001b[39;00m \u001b[38;5;21;01mpandas\u001b[39;00m \u001b[38;5;28;01mas\u001b[39;00m \u001b[38;5;21;01mpd\u001b[39;00m\n\u001b[0;32m      3\u001b[0m data_path \u001b[38;5;241m=\u001b[39m \u001b[38;5;124m\"\u001b[39m\u001b[38;5;124m/home/raphael/Documents/iths/data/\u001b[39m\u001b[38;5;124m\"\u001b[39m\n\u001b[1;32m----> 5\u001b[0m adv \u001b[38;5;241m=\u001b[39m \u001b[43mpd\u001b[49m\u001b[38;5;241;43m.\u001b[39;49m\u001b[43mread_csv\u001b[49m\u001b[43m(\u001b[49m\u001b[43mdata_path\u001b[49m\u001b[38;5;241;43m+\u001b[39;49m\u001b[38;5;124;43m\"\u001b[39;49m\u001b[38;5;124;43mAdvertising.csv\u001b[39;49m\u001b[38;5;124;43m\"\u001b[39;49m\u001b[43m,\u001b[49m\u001b[43m \u001b[49m\u001b[43mindex_col\u001b[49m\u001b[38;5;241;43m=\u001b[39;49m\u001b[38;5;241;43m0\u001b[39;49m\u001b[43m)\u001b[49m\n\u001b[0;32m      6\u001b[0m adv\u001b[38;5;241m.\u001b[39mhead()\n",
      "File \u001b[1;32mc:\\Code\\.venv\\Lib\\site-packages\\pandas\\io\\parsers\\readers.py:1026\u001b[0m, in \u001b[0;36mread_csv\u001b[1;34m(filepath_or_buffer, sep, delimiter, header, names, index_col, usecols, dtype, engine, converters, true_values, false_values, skipinitialspace, skiprows, skipfooter, nrows, na_values, keep_default_na, na_filter, verbose, skip_blank_lines, parse_dates, infer_datetime_format, keep_date_col, date_parser, date_format, dayfirst, cache_dates, iterator, chunksize, compression, thousands, decimal, lineterminator, quotechar, quoting, doublequote, escapechar, comment, encoding, encoding_errors, dialect, on_bad_lines, delim_whitespace, low_memory, memory_map, float_precision, storage_options, dtype_backend)\u001b[0m\n\u001b[0;32m   1013\u001b[0m kwds_defaults \u001b[38;5;241m=\u001b[39m _refine_defaults_read(\n\u001b[0;32m   1014\u001b[0m     dialect,\n\u001b[0;32m   1015\u001b[0m     delimiter,\n\u001b[1;32m   (...)\u001b[0m\n\u001b[0;32m   1022\u001b[0m     dtype_backend\u001b[38;5;241m=\u001b[39mdtype_backend,\n\u001b[0;32m   1023\u001b[0m )\n\u001b[0;32m   1024\u001b[0m kwds\u001b[38;5;241m.\u001b[39mupdate(kwds_defaults)\n\u001b[1;32m-> 1026\u001b[0m \u001b[38;5;28;01mreturn\u001b[39;00m \u001b[43m_read\u001b[49m\u001b[43m(\u001b[49m\u001b[43mfilepath_or_buffer\u001b[49m\u001b[43m,\u001b[49m\u001b[43m \u001b[49m\u001b[43mkwds\u001b[49m\u001b[43m)\u001b[49m\n",
      "File \u001b[1;32mc:\\Code\\.venv\\Lib\\site-packages\\pandas\\io\\parsers\\readers.py:620\u001b[0m, in \u001b[0;36m_read\u001b[1;34m(filepath_or_buffer, kwds)\u001b[0m\n\u001b[0;32m    617\u001b[0m _validate_names(kwds\u001b[38;5;241m.\u001b[39mget(\u001b[38;5;124m\"\u001b[39m\u001b[38;5;124mnames\u001b[39m\u001b[38;5;124m\"\u001b[39m, \u001b[38;5;28;01mNone\u001b[39;00m))\n\u001b[0;32m    619\u001b[0m \u001b[38;5;66;03m# Create the parser.\u001b[39;00m\n\u001b[1;32m--> 620\u001b[0m parser \u001b[38;5;241m=\u001b[39m \u001b[43mTextFileReader\u001b[49m\u001b[43m(\u001b[49m\u001b[43mfilepath_or_buffer\u001b[49m\u001b[43m,\u001b[49m\u001b[43m \u001b[49m\u001b[38;5;241;43m*\u001b[39;49m\u001b[38;5;241;43m*\u001b[39;49m\u001b[43mkwds\u001b[49m\u001b[43m)\u001b[49m\n\u001b[0;32m    622\u001b[0m \u001b[38;5;28;01mif\u001b[39;00m chunksize \u001b[38;5;129;01mor\u001b[39;00m iterator:\n\u001b[0;32m    623\u001b[0m     \u001b[38;5;28;01mreturn\u001b[39;00m parser\n",
      "File \u001b[1;32mc:\\Code\\.venv\\Lib\\site-packages\\pandas\\io\\parsers\\readers.py:1620\u001b[0m, in \u001b[0;36mTextFileReader.__init__\u001b[1;34m(self, f, engine, **kwds)\u001b[0m\n\u001b[0;32m   1617\u001b[0m     \u001b[38;5;28mself\u001b[39m\u001b[38;5;241m.\u001b[39moptions[\u001b[38;5;124m\"\u001b[39m\u001b[38;5;124mhas_index_names\u001b[39m\u001b[38;5;124m\"\u001b[39m] \u001b[38;5;241m=\u001b[39m kwds[\u001b[38;5;124m\"\u001b[39m\u001b[38;5;124mhas_index_names\u001b[39m\u001b[38;5;124m\"\u001b[39m]\n\u001b[0;32m   1619\u001b[0m \u001b[38;5;28mself\u001b[39m\u001b[38;5;241m.\u001b[39mhandles: IOHandles \u001b[38;5;241m|\u001b[39m \u001b[38;5;28;01mNone\u001b[39;00m \u001b[38;5;241m=\u001b[39m \u001b[38;5;28;01mNone\u001b[39;00m\n\u001b[1;32m-> 1620\u001b[0m \u001b[38;5;28mself\u001b[39m\u001b[38;5;241m.\u001b[39m_engine \u001b[38;5;241m=\u001b[39m \u001b[38;5;28;43mself\u001b[39;49m\u001b[38;5;241;43m.\u001b[39;49m\u001b[43m_make_engine\u001b[49m\u001b[43m(\u001b[49m\u001b[43mf\u001b[49m\u001b[43m,\u001b[49m\u001b[43m \u001b[49m\u001b[38;5;28;43mself\u001b[39;49m\u001b[38;5;241;43m.\u001b[39;49m\u001b[43mengine\u001b[49m\u001b[43m)\u001b[49m\n",
      "File \u001b[1;32mc:\\Code\\.venv\\Lib\\site-packages\\pandas\\io\\parsers\\readers.py:1880\u001b[0m, in \u001b[0;36mTextFileReader._make_engine\u001b[1;34m(self, f, engine)\u001b[0m\n\u001b[0;32m   1878\u001b[0m     \u001b[38;5;28;01mif\u001b[39;00m \u001b[38;5;124m\"\u001b[39m\u001b[38;5;124mb\u001b[39m\u001b[38;5;124m\"\u001b[39m \u001b[38;5;129;01mnot\u001b[39;00m \u001b[38;5;129;01min\u001b[39;00m mode:\n\u001b[0;32m   1879\u001b[0m         mode \u001b[38;5;241m+\u001b[39m\u001b[38;5;241m=\u001b[39m \u001b[38;5;124m\"\u001b[39m\u001b[38;5;124mb\u001b[39m\u001b[38;5;124m\"\u001b[39m\n\u001b[1;32m-> 1880\u001b[0m \u001b[38;5;28mself\u001b[39m\u001b[38;5;241m.\u001b[39mhandles \u001b[38;5;241m=\u001b[39m \u001b[43mget_handle\u001b[49m\u001b[43m(\u001b[49m\n\u001b[0;32m   1881\u001b[0m \u001b[43m    \u001b[49m\u001b[43mf\u001b[49m\u001b[43m,\u001b[49m\n\u001b[0;32m   1882\u001b[0m \u001b[43m    \u001b[49m\u001b[43mmode\u001b[49m\u001b[43m,\u001b[49m\n\u001b[0;32m   1883\u001b[0m \u001b[43m    \u001b[49m\u001b[43mencoding\u001b[49m\u001b[38;5;241;43m=\u001b[39;49m\u001b[38;5;28;43mself\u001b[39;49m\u001b[38;5;241;43m.\u001b[39;49m\u001b[43moptions\u001b[49m\u001b[38;5;241;43m.\u001b[39;49m\u001b[43mget\u001b[49m\u001b[43m(\u001b[49m\u001b[38;5;124;43m\"\u001b[39;49m\u001b[38;5;124;43mencoding\u001b[39;49m\u001b[38;5;124;43m\"\u001b[39;49m\u001b[43m,\u001b[49m\u001b[43m \u001b[49m\u001b[38;5;28;43;01mNone\u001b[39;49;00m\u001b[43m)\u001b[49m\u001b[43m,\u001b[49m\n\u001b[0;32m   1884\u001b[0m \u001b[43m    \u001b[49m\u001b[43mcompression\u001b[49m\u001b[38;5;241;43m=\u001b[39;49m\u001b[38;5;28;43mself\u001b[39;49m\u001b[38;5;241;43m.\u001b[39;49m\u001b[43moptions\u001b[49m\u001b[38;5;241;43m.\u001b[39;49m\u001b[43mget\u001b[49m\u001b[43m(\u001b[49m\u001b[38;5;124;43m\"\u001b[39;49m\u001b[38;5;124;43mcompression\u001b[39;49m\u001b[38;5;124;43m\"\u001b[39;49m\u001b[43m,\u001b[49m\u001b[43m \u001b[49m\u001b[38;5;28;43;01mNone\u001b[39;49;00m\u001b[43m)\u001b[49m\u001b[43m,\u001b[49m\n\u001b[0;32m   1885\u001b[0m \u001b[43m    \u001b[49m\u001b[43mmemory_map\u001b[49m\u001b[38;5;241;43m=\u001b[39;49m\u001b[38;5;28;43mself\u001b[39;49m\u001b[38;5;241;43m.\u001b[39;49m\u001b[43moptions\u001b[49m\u001b[38;5;241;43m.\u001b[39;49m\u001b[43mget\u001b[49m\u001b[43m(\u001b[49m\u001b[38;5;124;43m\"\u001b[39;49m\u001b[38;5;124;43mmemory_map\u001b[39;49m\u001b[38;5;124;43m\"\u001b[39;49m\u001b[43m,\u001b[49m\u001b[43m \u001b[49m\u001b[38;5;28;43;01mFalse\u001b[39;49;00m\u001b[43m)\u001b[49m\u001b[43m,\u001b[49m\n\u001b[0;32m   1886\u001b[0m \u001b[43m    \u001b[49m\u001b[43mis_text\u001b[49m\u001b[38;5;241;43m=\u001b[39;49m\u001b[43mis_text\u001b[49m\u001b[43m,\u001b[49m\n\u001b[0;32m   1887\u001b[0m \u001b[43m    \u001b[49m\u001b[43merrors\u001b[49m\u001b[38;5;241;43m=\u001b[39;49m\u001b[38;5;28;43mself\u001b[39;49m\u001b[38;5;241;43m.\u001b[39;49m\u001b[43moptions\u001b[49m\u001b[38;5;241;43m.\u001b[39;49m\u001b[43mget\u001b[49m\u001b[43m(\u001b[49m\u001b[38;5;124;43m\"\u001b[39;49m\u001b[38;5;124;43mencoding_errors\u001b[39;49m\u001b[38;5;124;43m\"\u001b[39;49m\u001b[43m,\u001b[49m\u001b[43m \u001b[49m\u001b[38;5;124;43m\"\u001b[39;49m\u001b[38;5;124;43mstrict\u001b[39;49m\u001b[38;5;124;43m\"\u001b[39;49m\u001b[43m)\u001b[49m\u001b[43m,\u001b[49m\n\u001b[0;32m   1888\u001b[0m \u001b[43m    \u001b[49m\u001b[43mstorage_options\u001b[49m\u001b[38;5;241;43m=\u001b[39;49m\u001b[38;5;28;43mself\u001b[39;49m\u001b[38;5;241;43m.\u001b[39;49m\u001b[43moptions\u001b[49m\u001b[38;5;241;43m.\u001b[39;49m\u001b[43mget\u001b[49m\u001b[43m(\u001b[49m\u001b[38;5;124;43m\"\u001b[39;49m\u001b[38;5;124;43mstorage_options\u001b[39;49m\u001b[38;5;124;43m\"\u001b[39;49m\u001b[43m,\u001b[49m\u001b[43m \u001b[49m\u001b[38;5;28;43;01mNone\u001b[39;49;00m\u001b[43m)\u001b[49m\u001b[43m,\u001b[49m\n\u001b[0;32m   1889\u001b[0m \u001b[43m\u001b[49m\u001b[43m)\u001b[49m\n\u001b[0;32m   1890\u001b[0m \u001b[38;5;28;01massert\u001b[39;00m \u001b[38;5;28mself\u001b[39m\u001b[38;5;241m.\u001b[39mhandles \u001b[38;5;129;01mis\u001b[39;00m \u001b[38;5;129;01mnot\u001b[39;00m \u001b[38;5;28;01mNone\u001b[39;00m\n\u001b[0;32m   1891\u001b[0m f \u001b[38;5;241m=\u001b[39m \u001b[38;5;28mself\u001b[39m\u001b[38;5;241m.\u001b[39mhandles\u001b[38;5;241m.\u001b[39mhandle\n",
      "File \u001b[1;32mc:\\Code\\.venv\\Lib\\site-packages\\pandas\\io\\common.py:873\u001b[0m, in \u001b[0;36mget_handle\u001b[1;34m(path_or_buf, mode, encoding, compression, memory_map, is_text, errors, storage_options)\u001b[0m\n\u001b[0;32m    868\u001b[0m \u001b[38;5;28;01melif\u001b[39;00m \u001b[38;5;28misinstance\u001b[39m(handle, \u001b[38;5;28mstr\u001b[39m):\n\u001b[0;32m    869\u001b[0m     \u001b[38;5;66;03m# Check whether the filename is to be opened in binary mode.\u001b[39;00m\n\u001b[0;32m    870\u001b[0m     \u001b[38;5;66;03m# Binary mode does not support 'encoding' and 'newline'.\u001b[39;00m\n\u001b[0;32m    871\u001b[0m     \u001b[38;5;28;01mif\u001b[39;00m ioargs\u001b[38;5;241m.\u001b[39mencoding \u001b[38;5;129;01mand\u001b[39;00m \u001b[38;5;124m\"\u001b[39m\u001b[38;5;124mb\u001b[39m\u001b[38;5;124m\"\u001b[39m \u001b[38;5;129;01mnot\u001b[39;00m \u001b[38;5;129;01min\u001b[39;00m ioargs\u001b[38;5;241m.\u001b[39mmode:\n\u001b[0;32m    872\u001b[0m         \u001b[38;5;66;03m# Encoding\u001b[39;00m\n\u001b[1;32m--> 873\u001b[0m         handle \u001b[38;5;241m=\u001b[39m \u001b[38;5;28;43mopen\u001b[39;49m\u001b[43m(\u001b[49m\n\u001b[0;32m    874\u001b[0m \u001b[43m            \u001b[49m\u001b[43mhandle\u001b[49m\u001b[43m,\u001b[49m\n\u001b[0;32m    875\u001b[0m \u001b[43m            \u001b[49m\u001b[43mioargs\u001b[49m\u001b[38;5;241;43m.\u001b[39;49m\u001b[43mmode\u001b[49m\u001b[43m,\u001b[49m\n\u001b[0;32m    876\u001b[0m \u001b[43m            \u001b[49m\u001b[43mencoding\u001b[49m\u001b[38;5;241;43m=\u001b[39;49m\u001b[43mioargs\u001b[49m\u001b[38;5;241;43m.\u001b[39;49m\u001b[43mencoding\u001b[49m\u001b[43m,\u001b[49m\n\u001b[0;32m    877\u001b[0m \u001b[43m            \u001b[49m\u001b[43merrors\u001b[49m\u001b[38;5;241;43m=\u001b[39;49m\u001b[43merrors\u001b[49m\u001b[43m,\u001b[49m\n\u001b[0;32m    878\u001b[0m \u001b[43m            \u001b[49m\u001b[43mnewline\u001b[49m\u001b[38;5;241;43m=\u001b[39;49m\u001b[38;5;124;43m\"\u001b[39;49m\u001b[38;5;124;43m\"\u001b[39;49m\u001b[43m,\u001b[49m\n\u001b[0;32m    879\u001b[0m \u001b[43m        \u001b[49m\u001b[43m)\u001b[49m\n\u001b[0;32m    880\u001b[0m     \u001b[38;5;28;01melse\u001b[39;00m:\n\u001b[0;32m    881\u001b[0m         \u001b[38;5;66;03m# Binary mode\u001b[39;00m\n\u001b[0;32m    882\u001b[0m         handle \u001b[38;5;241m=\u001b[39m \u001b[38;5;28mopen\u001b[39m(handle, ioargs\u001b[38;5;241m.\u001b[39mmode)\n",
      "\u001b[1;31mFileNotFoundError\u001b[0m: [Errno 2] No such file or directory: '/home/raphael/Documents/iths/data/Advertising.csv'"
     ]
    }
   ],
   "source": [
    "import pandas as pd\n",
    "\n",
    "data_path = \"/home/raphael/Documents/iths/data/\"\n",
    "\n",
    "adv = pd.read_csv(data_path+\"Advertising.csv\", index_col=0)\n",
    "adv.head()"
   ]
  },
  {
   "cell_type": "code",
   "execution_count": 79,
   "metadata": {},
   "outputs": [
    {
     "data": {
      "text/plain": [
       "array([[  1. , 230.1],\n",
       "       [  1. ,  44.5],\n",
       "       [  1. ,  17.2],\n",
       "       [  1. , 151.5],\n",
       "       [  1. , 180.8],\n",
       "       [  1. ,   8.7],\n",
       "       [  1. ,  57.5],\n",
       "       [  1. , 120.2],\n",
       "       [  1. ,   8.6],\n",
       "       [  1. , 199.8],\n",
       "       [  1. ,  66.1],\n",
       "       [  1. , 214.7],\n",
       "       [  1. ,  23.8],\n",
       "       [  1. ,  97.5],\n",
       "       [  1. , 204.1],\n",
       "       [  1. , 195.4],\n",
       "       [  1. ,  67.8],\n",
       "       [  1. , 281.4],\n",
       "       [  1. ,  69.2],\n",
       "       [  1. , 147.3],\n",
       "       [  1. , 218.4],\n",
       "       [  1. , 237.4],\n",
       "       [  1. ,  13.2],\n",
       "       [  1. , 228.3],\n",
       "       [  1. ,  62.3],\n",
       "       [  1. , 262.9],\n",
       "       [  1. , 142.9],\n",
       "       [  1. , 240.1],\n",
       "       [  1. , 248.8],\n",
       "       [  1. ,  70.6],\n",
       "       [  1. , 292.9],\n",
       "       [  1. , 112.9],\n",
       "       [  1. ,  97.2],\n",
       "       [  1. , 265.6],\n",
       "       [  1. ,  95.7],\n",
       "       [  1. , 290.7],\n",
       "       [  1. , 266.9],\n",
       "       [  1. ,  74.7],\n",
       "       [  1. ,  43.1],\n",
       "       [  1. , 228. ],\n",
       "       [  1. , 202.5],\n",
       "       [  1. , 177. ],\n",
       "       [  1. , 293.6],\n",
       "       [  1. , 206.9],\n",
       "       [  1. ,  25.1],\n",
       "       [  1. , 175.1],\n",
       "       [  1. ,  89.7],\n",
       "       [  1. , 239.9],\n",
       "       [  1. , 227.2],\n",
       "       [  1. ,  66.9],\n",
       "       [  1. , 199.8],\n",
       "       [  1. , 100.4],\n",
       "       [  1. , 216.4],\n",
       "       [  1. , 182.6],\n",
       "       [  1. , 262.7],\n",
       "       [  1. , 198.9],\n",
       "       [  1. ,   7.3],\n",
       "       [  1. , 136.2],\n",
       "       [  1. , 210.8],\n",
       "       [  1. , 210.7],\n",
       "       [  1. ,  53.5],\n",
       "       [  1. , 261.3],\n",
       "       [  1. , 239.3],\n",
       "       [  1. , 102.7],\n",
       "       [  1. , 131.1],\n",
       "       [  1. ,  69. ],\n",
       "       [  1. ,  31.5],\n",
       "       [  1. , 139.3],\n",
       "       [  1. , 237.4],\n",
       "       [  1. , 216.8],\n",
       "       [  1. , 199.1],\n",
       "       [  1. , 109.8],\n",
       "       [  1. ,  26.8],\n",
       "       [  1. , 129.4],\n",
       "       [  1. , 213.4],\n",
       "       [  1. ,  16.9],\n",
       "       [  1. ,  27.5],\n",
       "       [  1. , 120.5],\n",
       "       [  1. ,   5.4],\n",
       "       [  1. , 116. ],\n",
       "       [  1. ,  76.4],\n",
       "       [  1. , 239.8],\n",
       "       [  1. ,  75.3],\n",
       "       [  1. ,  68.4],\n",
       "       [  1. , 213.5],\n",
       "       [  1. , 193.2],\n",
       "       [  1. ,  76.3],\n",
       "       [  1. , 110.7],\n",
       "       [  1. ,  88.3],\n",
       "       [  1. , 109.8],\n",
       "       [  1. , 134.3],\n",
       "       [  1. ,  28.6],\n",
       "       [  1. , 217.7],\n",
       "       [  1. , 250.9],\n",
       "       [  1. , 107.4],\n",
       "       [  1. , 163.3],\n",
       "       [  1. , 197.6],\n",
       "       [  1. , 184.9],\n",
       "       [  1. , 289.7],\n",
       "       [  1. , 135.2],\n",
       "       [  1. , 222.4],\n",
       "       [  1. , 296.4],\n",
       "       [  1. , 280.2],\n",
       "       [  1. , 187.9],\n",
       "       [  1. , 238.2],\n",
       "       [  1. , 137.9],\n",
       "       [  1. ,  25. ],\n",
       "       [  1. ,  90.4],\n",
       "       [  1. ,  13.1],\n",
       "       [  1. , 255.4],\n",
       "       [  1. , 225.8],\n",
       "       [  1. , 241.7],\n",
       "       [  1. , 175.7],\n",
       "       [  1. , 209.6],\n",
       "       [  1. ,  78.2],\n",
       "       [  1. ,  75.1],\n",
       "       [  1. , 139.2],\n",
       "       [  1. ,  76.4],\n",
       "       [  1. , 125.7],\n",
       "       [  1. ,  19.4],\n",
       "       [  1. , 141.3],\n",
       "       [  1. ,  18.8],\n",
       "       [  1. , 224. ],\n",
       "       [  1. , 123.1],\n",
       "       [  1. , 229.5],\n",
       "       [  1. ,  87.2],\n",
       "       [  1. ,   7.8],\n",
       "       [  1. ,  80.2],\n",
       "       [  1. , 220.3],\n",
       "       [  1. ,  59.6],\n",
       "       [  1. ,   0.7],\n",
       "       [  1. , 265.2],\n",
       "       [  1. ,   8.4],\n",
       "       [  1. , 219.8],\n",
       "       [  1. ,  36.9],\n",
       "       [  1. ,  48.3],\n",
       "       [  1. ,  25.6],\n",
       "       [  1. , 273.7],\n",
       "       [  1. ,  43. ],\n",
       "       [  1. , 184.9],\n",
       "       [  1. ,  73.4],\n",
       "       [  1. , 193.7],\n",
       "       [  1. , 220.5],\n",
       "       [  1. , 104.6],\n",
       "       [  1. ,  96.2],\n",
       "       [  1. , 140.3],\n",
       "       [  1. , 240.1],\n",
       "       [  1. , 243.2],\n",
       "       [  1. ,  38. ],\n",
       "       [  1. ,  44.7],\n",
       "       [  1. , 280.7],\n",
       "       [  1. , 121. ],\n",
       "       [  1. , 197.6],\n",
       "       [  1. , 171.3],\n",
       "       [  1. , 187.8],\n",
       "       [  1. ,   4.1],\n",
       "       [  1. ,  93.9],\n",
       "       [  1. , 149.8],\n",
       "       [  1. ,  11.7],\n",
       "       [  1. , 131.7],\n",
       "       [  1. , 172.5],\n",
       "       [  1. ,  85.7],\n",
       "       [  1. , 188.4],\n",
       "       [  1. , 163.5],\n",
       "       [  1. , 117.2],\n",
       "       [  1. , 234.5],\n",
       "       [  1. ,  17.9],\n",
       "       [  1. , 206.8],\n",
       "       [  1. , 215.4],\n",
       "       [  1. , 284.3],\n",
       "       [  1. ,  50. ],\n",
       "       [  1. , 164.5],\n",
       "       [  1. ,  19.6],\n",
       "       [  1. , 168.4],\n",
       "       [  1. , 222.4],\n",
       "       [  1. , 276.9],\n",
       "       [  1. , 248.4],\n",
       "       [  1. , 170.2],\n",
       "       [  1. , 276.7],\n",
       "       [  1. , 165.6],\n",
       "       [  1. , 156.6],\n",
       "       [  1. , 218.5],\n",
       "       [  1. ,  56.2],\n",
       "       [  1. , 287.6],\n",
       "       [  1. , 253.8],\n",
       "       [  1. , 205. ],\n",
       "       [  1. , 139.5],\n",
       "       [  1. , 191.1],\n",
       "       [  1. , 286. ],\n",
       "       [  1. ,  18.7],\n",
       "       [  1. ,  39.5],\n",
       "       [  1. ,  75.5],\n",
       "       [  1. ,  17.2],\n",
       "       [  1. , 166.8],\n",
       "       [  1. , 149.7],\n",
       "       [  1. ,  38.2],\n",
       "       [  1. ,  94.2],\n",
       "       [  1. , 177. ],\n",
       "       [  1. , 283.6],\n",
       "       [  1. , 232.1]])"
      ]
     },
     "execution_count": 79,
     "metadata": {},
     "output_type": "execute_result"
    }
   ],
   "source": [
    "import numpy as np\n",
    "# Y is a response variable\n",
    "Y = sales = adv['sales']\n",
    "# Antag att regression av 'TV' på 'sales' är ungefär linjär\n",
    "# Y ≈ β0 + β1 X\n",
    "# sales = 1·β0 + 'TV'· β1 \n",
    "# Modellspecifikationsmatrisen (designmatrisen) behöver en 1:a i första kolumnen\n",
    "X = TV = np.column_stack([np.ones(Y.shape[0]), adv['TV']])\n",
    "X"
   ]
  },
  {
   "cell_type": "markdown",
   "metadata": {},
   "source": [
    "\\begin{equation*}\n",
    "    \\boldsymbol{\\hat{\\beta}} = \\mathbf{b} = (X^TX)^{-1}X^T\\mathbf{y}.\n",
    "\\end{equation*}"
   ]
  },
  {
   "cell_type": "code",
   "execution_count": 80,
   "metadata": {},
   "outputs": [
    {
     "data": {
      "text/plain": [
       "array([7.03259355, 0.04753664])"
      ]
     },
     "execution_count": 80,
     "metadata": {},
     "output_type": "execute_result"
    }
   ],
   "source": [
    "# pseudo-invers för prestanda\n",
    "b = np.linalg.pinv(X.T @ X) @ X.T @ Y\n",
    "b"
   ]
  },
  {
   "cell_type": "markdown",
   "metadata": {},
   "source": [
    "Efter regression får vi en skattare för $y$:\n",
    "\n",
    "$\\hat{y} = \\beta_0 + \\beta_1x$  \n",
    "\n",
    "Modellen är alltså $\\hat{y} = 7.0325 + 0.0475x$"
   ]
  },
  {
   "cell_type": "code",
   "execution_count": 81,
   "metadata": {},
   "outputs": [
    {
     "data": {
      "text/plain": [
       "[<matplotlib.lines.Line2D at 0x7f495172a0c0>]"
      ]
     },
     "execution_count": 81,
     "metadata": {},
     "output_type": "execute_result"
    },
    {
     "data": {
      "image/png": "[encoded data removed]",
      "text/plain": [
       "<Figure size 640x480 with 1 Axes>"
      ]
     },
     "metadata": {},
     "output_type": "display_data"
    }
   ],
   "source": [
    "import matplotlib.pyplot as plt \n",
    "\n",
    "plt.scatter(X[:, 1], Y)\n",
    "x = np.linspace(0,300)\n",
    "y_hat = b[0] + b[1]*x\n",
    "plt.plot(x, y_hat, c=\"red\")"
   ]
  },
  {
   "cell_type": "markdown",
   "metadata": {},
   "source": [
    "SSE = (y1 − β̂0 − β̂1 x1 )² + (y2 − β̂0 − β̂1 x2 )² + · · · + (yn − β̂0 − β̂1 xn )² "
   ]
  },
  {
   "cell_type": "code",
   "execution_count": 108,
   "metadata": {},
   "outputs": [
    {
     "name": "stdout",
     "output_type": "stream",
     "text": [
      "[[ 22.1   1.  230.1]\n",
      " [ 10.4   1.   44.5]\n",
      " [  9.3   1.   17.2]\n",
      " [ 18.5   1.  151.5]\n",
      " [ 12.9   1.  180.8]\n",
      " [  7.2   1.    8.7]\n",
      " [ 11.8   1.   57.5]\n",
      " [ 13.2   1.  120.2]\n",
      " [  4.8   1.    8.6]\n",
      " [ 10.6   1.  199.8]\n",
      " [  8.6   1.   66.1]\n",
      " [ 17.4   1.  214.7]\n",
      " [  9.2   1.   23.8]\n",
      " [  9.7   1.   97.5]\n",
      " [ 19.    1.  204.1]\n",
      " [ 22.4   1.  195.4]\n",
      " [ 12.5   1.   67.8]\n",
      " [ 24.4   1.  281.4]\n",
      " [ 11.3   1.   69.2]\n",
      " [ 14.6   1.  147.3]\n",
      " [ 18.    1.  218.4]\n",
      " [ 12.5   1.  237.4]\n",
      " [  5.6   1.   13.2]\n",
      " [ 15.5   1.  228.3]\n",
      " [  9.7   1.   62.3]\n",
      " [ 12.    1.  262.9]\n",
      " [ 15.    1.  142.9]\n",
      " [ 15.9   1.  240.1]\n",
      " [ 18.9   1.  248.8]\n",
      " [ 10.5   1.   70.6]\n",
      " [ 21.4   1.  292.9]\n",
      " [ 11.9   1.  112.9]\n",
      " [  9.6   1.   97.2]\n",
      " [ 17.4   1.  265.6]\n",
      " [  9.5   1.   95.7]\n",
      " [ 12.8   1.  290.7]\n",
      " [ 25.4   1.  266.9]\n",
      " [ 14.7   1.   74.7]\n",
      " [ 10.1   1.   43.1]\n",
      " [ 21.5   1.  228. ]\n",
      " [ 16.6   1.  202.5]\n",
      " [ 17.1   1.  177. ]\n",
      " [ 20.7   1.  293.6]\n",
      " [ 12.9   1.  206.9]\n",
      " [  8.5   1.   25.1]\n",
      " [ 14.9   1.  175.1]\n",
      " [ 10.6   1.   89.7]\n",
      " [ 23.2   1.  239.9]\n",
      " [ 14.8   1.  227.2]\n",
      " [  9.7   1.   66.9]\n",
      " [ 11.4   1.  199.8]\n",
      " [ 10.7   1.  100.4]\n",
      " [ 22.6   1.  216.4]\n",
      " [ 21.2   1.  182.6]\n",
      " [ 20.2   1.  262.7]\n",
      " [ 23.7   1.  198.9]\n",
      " [  5.5   1.    7.3]\n",
      " [ 13.2   1.  136.2]\n",
      " [ 23.8   1.  210.8]\n",
      " [ 18.4   1.  210.7]\n",
      " [  8.1   1.   53.5]\n",
      " [ 24.2   1.  261.3]\n",
      " [ 15.7   1.  239.3]\n",
      " [ 14.    1.  102.7]\n",
      " [ 18.    1.  131.1]\n",
      " [  9.3   1.   69. ]\n",
      " [  9.5   1.   31.5]\n",
      " [ 13.4   1.  139.3]\n",
      " [ 18.9   1.  237.4]\n",
      " [ 22.3   1.  216.8]\n",
      " [ 18.3   1.  199.1]\n",
      " [ 12.4   1.  109.8]\n",
      " [  8.8   1.   26.8]\n",
      " [ 11.    1.  129.4]\n",
      " [ 17.    1.  213.4]\n",
      " [  8.7   1.   16.9]\n",
      " [  6.9   1.   27.5]\n",
      " [ 14.2   1.  120.5]\n",
      " [  5.3   1.    5.4]\n",
      " [ 11.    1.  116. ]\n",
      " [ 11.8   1.   76.4]\n",
      " [ 12.3   1.  239.8]\n",
      " [ 11.3   1.   75.3]\n",
      " [ 13.6   1.   68.4]\n",
      " [ 21.7   1.  213.5]\n",
      " [ 15.2   1.  193.2]\n",
      " [ 12.    1.   76.3]\n",
      " [ 16.    1.  110.7]\n",
      " [ 12.9   1.   88.3]\n",
      " [ 16.7   1.  109.8]\n",
      " [ 11.2   1.  134.3]\n",
      " [  7.3   1.   28.6]\n",
      " [ 19.4   1.  217.7]\n",
      " [ 22.2   1.  250.9]\n",
      " [ 11.5   1.  107.4]\n",
      " [ 16.9   1.  163.3]\n",
      " [ 11.7   1.  197.6]\n",
      " [ 15.5   1.  184.9]\n",
      " [ 25.4   1.  289.7]\n",
      " [ 17.2   1.  135.2]\n",
      " [ 11.7   1.  222.4]\n",
      " [ 23.8   1.  296.4]\n",
      " [ 14.8   1.  280.2]\n",
      " [ 14.7   1.  187.9]\n",
      " [ 20.7   1.  238.2]\n",
      " [ 19.2   1.  137.9]\n",
      " [  7.2   1.   25. ]\n",
      " [  8.7   1.   90.4]\n",
      " [  5.3   1.   13.1]\n",
      " [ 19.8   1.  255.4]\n",
      " [ 13.4   1.  225.8]\n",
      " [ 21.8   1.  241.7]\n",
      " [ 14.1   1.  175.7]\n",
      " [ 15.9   1.  209.6]\n",
      " [ 14.6   1.   78.2]\n",
      " [ 12.6   1.   75.1]\n",
      " [ 12.2   1.  139.2]\n",
      " [  9.4   1.   76.4]\n",
      " [ 15.9   1.  125.7]\n",
      " [  6.6   1.   19.4]\n",
      " [ 15.5   1.  141.3]\n",
      " [  7.    1.   18.8]\n",
      " [ 11.6   1.  224. ]\n",
      " [ 15.2   1.  123.1]\n",
      " [ 19.7   1.  229.5]\n",
      " [ 10.6   1.   87.2]\n",
      " [  6.6   1.    7.8]\n",
      " [  8.8   1.   80.2]\n",
      " [ 24.7   1.  220.3]\n",
      " [  9.7   1.   59.6]\n",
      " [  1.6   1.    0.7]\n",
      " [ 12.7   1.  265.2]\n",
      " [  5.7   1.    8.4]\n",
      " [ 19.6   1.  219.8]\n",
      " [ 10.8   1.   36.9]\n",
      " [ 11.6   1.   48.3]\n",
      " [  9.5   1.   25.6]\n",
      " [ 20.8   1.  273.7]\n",
      " [  9.6   1.   43. ]\n",
      " [ 20.7   1.  184.9]\n",
      " [ 10.9   1.   73.4]\n",
      " [ 19.2   1.  193.7]\n",
      " [ 20.1   1.  220.5]\n",
      " [ 10.4   1.  104.6]\n",
      " [ 11.4   1.   96.2]\n",
      " [ 10.3   1.  140.3]\n",
      " [ 13.2   1.  240.1]\n",
      " [ 25.4   1.  243.2]\n",
      " [ 10.9   1.   38. ]\n",
      " [ 10.1   1.   44.7]\n",
      " [ 16.1   1.  280.7]\n",
      " [ 11.6   1.  121. ]\n",
      " [ 16.6   1.  197.6]\n",
      " [ 19.    1.  171.3]\n",
      " [ 15.6   1.  187.8]\n",
      " [  3.2   1.    4.1]\n",
      " [ 15.3   1.   93.9]\n",
      " [ 10.1   1.  149.8]\n",
      " [  7.3   1.   11.7]\n",
      " [ 12.9   1.  131.7]\n",
      " [ 14.4   1.  172.5]\n",
      " [ 13.3   1.   85.7]\n",
      " [ 14.9   1.  188.4]\n",
      " [ 18.    1.  163.5]\n",
      " [ 11.9   1.  117.2]\n",
      " [ 11.9   1.  234.5]\n",
      " [  8.    1.   17.9]\n",
      " [ 12.2   1.  206.8]\n",
      " [ 17.1   1.  215.4]\n",
      " [ 15.    1.  284.3]\n",
      " [  8.4   1.   50. ]\n",
      " [ 14.5   1.  164.5]\n",
      " [  7.6   1.   19.6]\n",
      " [ 11.7   1.  168.4]\n",
      " [ 11.5   1.  222.4]\n",
      " [ 27.    1.  276.9]\n",
      " [ 20.2   1.  248.4]\n",
      " [ 11.7   1.  170.2]\n",
      " [ 11.8   1.  276.7]\n",
      " [ 12.6   1.  165.6]\n",
      " [ 10.5   1.  156.6]\n",
      " [ 12.2   1.  218.5]\n",
      " [  8.7   1.   56.2]\n",
      " [ 26.2   1.  287.6]\n",
      " [ 17.6   1.  253.8]\n",
      " [ 22.6   1.  205. ]\n",
      " [ 10.3   1.  139.5]\n",
      " [ 17.3   1.  191.1]\n",
      " [ 15.9   1.  286. ]\n",
      " [  6.7   1.   18.7]\n",
      " [ 10.8   1.   39.5]\n",
      " [  9.9   1.   75.5]\n",
      " [  5.9   1.   17.2]\n",
      " [ 19.6   1.  166.8]\n",
      " [ 17.3   1.  149.7]\n",
      " [  7.6   1.   38.2]\n",
      " [  9.7   1.   94.2]\n",
      " [ 12.8   1.  177. ]\n",
      " [ 25.5   1.  283.6]\n",
      " [ 13.4   1.  232.1]]\n"
     ]
    }
   ],
   "source": [
    "# RSS Residual Sum of Squares\n",
    "# SSE Sum of Square Errors\n",
    "# Samma sak!\n",
    "# stickprovets storlek\n",
    "n = Y.shape[0]\n",
    "# antalet parametrar, bara TV i detta fall, så 1\n",
    "v = X.shape[1] - 1\n",
    "\n",
    "SSE = np.sum(np.square(Y - (X @ b)))\n",
    "\n",
    "print(np.column_stack([Y, X]))\n"
   ]
  },
  {
   "cell_type": "markdown",
   "metadata": {},
   "source": [
    "$\\texttt{Cov}(X, Y) = E[(X-\\mu_X)(Y-\\mu_Y)] = E[XY] - E[X]E[Y]$\n",
    "\n",
    "$S_{xy} \\rightarrow \\sum_x{(X-\\mu_X)(Y-\\mu_Y)}$\n",
    "\n",
    "Om X och Y är oberoende så är Cov(X, Y) = 0, men vi kan inte anta det omvända. Dvs Cov=0 betyder inte nödvändigtvis att X och Y är oberoende, men de är åtminstone inte linjärt beroende."
   ]
  },
  {
   "cell_type": "markdown",
   "metadata": {},
   "source": [
    "En starkare egenskap är korrelation (Pearson coefficient of correlation), som är ett värde mellan -1 och 1 (inklusive ändpunkterna). \n",
    "\n",
    "Låt $X$ och $Y$ vara slumpvariabler med medel $\\mu_X$ respektive $\\mu_Y$ samt varianser $\\sigma_X^2$ och $\\sigma_Y^2$.\n",
    "Korrelationen mellan $X$ och $Y$ ges då av:\n",
    "\n",
    "\\begin{equation*}\n",
    "\\rho_{XY} = \\frac{\\texttt{Cov(X, Y)}}{\\sqrt{(\\texttt{Var} X)(\\texttt{Var} Y)}}\n",
    "\\end{equation*}\n",
    "\n",
    "Om Pearsonkoefficienten är 1 eller -1 ($|\\rho_{XY}| = 1$) då har vi visat att det finns en ekvation:\n",
    "$Y = \\beta_0 + \\beta_1X$ "
   ]
  },
  {
   "cell_type": "markdown",
   "metadata": {},
   "source": [
    "Standardfel (kring medlet):\n",
    "\n",
    "\\begin{equation*}\n",
    "\\frac{\\sigma^2}{n}\n",
    "\\end{equation*}"
   ]
  },
  {
   "cell_type": "code",
   "execution_count": 83,
   "metadata": {},
   "outputs": [
    {
     "data": {
      "text/plain": [
       "((200, 2), (200,))"
      ]
     },
     "execution_count": 83,
     "metadata": {},
     "output_type": "execute_result"
    }
   ],
   "source": [
    "X.shape,Y.shape "
   ]
  },
  {
   "cell_type": "code",
   "execution_count": 84,
   "metadata": {},
   "outputs": [
    {
     "name": "stdout",
     "output_type": "stream",
     "text": [
      "Confidence interval on predictor β1: 0.0475 ± 0.0055 interval: [0.042, 0.053]\n"
     ]
    }
   ],
   "source": [
    "var = SSE/(n-v-1)\n",
    "\n",
    "S = np.sqrt(var) # residual standard error, alltså en uppskattning av standardfelet/ stickprovsavvikelsen\n",
    "# Sum of Squares Regression\n",
    "SSR = np.sum(b*(X.T @ Y)) - (np.square(np.sum(Y))/n)\n",
    "Syy = (n*np.sum(np.square(Y)) - np.square(np.sum(Y)))/n\n",
    "Sxx = (n*np.sum(np.square(X)) - np.square(np.sum(X)))/n\n",
    "\n",
    "Sxy = (n*np.sum(X[:, 1]@Y) - (np.sum(X[:, 1])*np.sum(Y)))/n\n",
    "# Standard error (of the mean)\n",
    "se = var / n\n",
    "# square of standard error of β1 = var/Sxx\n",
    "se_b = var/Sxx\n",
    "\n",
    "ci = (b[1], 2*np.sqrt(se_b))\n",
    "print(f\"Confidence interval on predictor β1: {ci[0]:.4f} ± {ci[1]:.4f} interval: [{ci[0]- ci[1]:.3f}, {ci[0]+ ci[1]:.3f}]\")\n"
   ]
  },
  {
   "cell_type": "markdown",
   "metadata": {},
   "source": [
    "Detta är väldigt ungefärligt ett 90% interval (<2σ). Om vi kör regressionen många gånger på delmängder av datan (som skall ha samma medel, dvs vara balanserade) så väntar vi oss att 90% av värdena hamnar mellan 0.053 och 0.042."
   ]
  },
  {
   "cell_type": "code",
   "execution_count": 85,
   "metadata": {},
   "outputs": [
    {
     "data": {
      "text/plain": [
       "0.3072730307163512"
      ]
     },
     "execution_count": 85,
     "metadata": {},
     "output_type": "execute_result"
    }
   ],
   "source": [
    "x_mean = np.mean(X)\n",
    "se_intercept = var * ((1/n)+(np.square(x_mean)/Sxx))\n",
    "np.sqrt(se_intercept)"
   ]
  },
  {
   "cell_type": "code",
   "execution_count": 86,
   "metadata": {},
   "outputs": [
    {
     "name": "stdout",
     "output_type": "stream",
     "text": [
      "Confidence interval on predictor β0: 7.033 ± 0.615 interval: [6.418, 7.647]\n"
     ]
    }
   ],
   "source": [
    "ci = (b[0], 2*np.sqrt(se_intercept))\n",
    "print(f\"Confidence interval on predictor β0: {ci[0]:.3f} ± {ci[1]:.3f} interval: [{b[0]- ci[1]:.3f}, {b[0]+ ci[1]:.3f}]\")\n"
   ]
  },
  {
   "cell_type": "markdown",
   "metadata": {},
   "source": []
  },
  {
   "cell_type": "markdown",
   "metadata": {},
   "source": [
    "### Hypotestestning\n",
    "Noll-hypotes:\n",
    "\n",
    "$H_0$ : There is no relationship between X and Y\n",
    "\n",
    "Alternativ hypotes:\n",
    "\n",
    "$H_a$ : There is a relationship between X and Y\n",
    "\n",
    "$H_0$ : $\\beta_1 = 0$\n",
    "\n",
    "$H_a$ : $\\beta_1 \\neq 0$\n",
    "\n",
    "T-statistika för att testa relevans\n",
    "\n",
    "\\begin{equation*}\n",
    "t = \\frac{\\hat{\\beta}_1 - \\mathbb{0}}{SE(\\hat{\\beta_1})}\n",
    "\\end{equation*}"
   ]
  },
  {
   "cell_type": "code",
   "execution_count": 87,
   "metadata": {},
   "outputs": [
    {
     "data": {
      "text/plain": [
       "17.309780472028297"
      ]
     },
     "execution_count": 87,
     "metadata": {},
     "output_type": "execute_result"
    }
   ],
   "source": [
    "t = b[1]/np.sqrt(se_b)\n",
    "t\n",
    "# t => antalet standard deviatoiner bort ett värde 0 för β1 skulle vara, om t=2 är det alltså 95% chans att det är korrekt. Ett värde på 17 (dvs 17σ) motsvarar ett tal med 42 nollor efter decimalpunkten innan första signifikanta siffran."
   ]
  },
  {
   "cell_type": "markdown",
   "metadata": {},
   "source": [
    "Ok, så regressionen är relevant, men hur bra är den?\n",
    "\n",
    "\\begin{equation*}\n",
    "\\hat{\\rho} = r = \\frac{S_{xy}}{\\sqrt{S_{xx}S_{yy}}}\n",
    "\\end{equation*}"
   ]
  },
  {
   "cell_type": "code",
   "execution_count": 88,
   "metadata": {},
   "outputs": [
    {
     "name": "stdout",
     "output_type": "stream",
     "text": [
      "scipy.stats pearsonnr objekt: PearsonRResult(statistic=0.7822244248616066, pvalue=1.467389700194602e-42)\n",
      "scipy.stats korrelation: 0.7822244248616066\n",
      "sqrt(R²):\t\t 0.782224424861632\n",
      "R²:\t\t\t 0.6118750508501111\n",
      "Alternativ R²: \t\t 0.611875050850071\n",
      "r²:                      0.6118750508500712\n",
      "Beräkning av r och R² i flera steg: 0.7983953520754693, 0.6374351382157126\n"
     ]
    }
   ],
   "source": [
    "import scipy.stats as stats\n",
    "rho = Sxy / (np.sqrt(Sxx*Syy))\n",
    "Rsq = SSR/Syy\n",
    "r = stats.pearsonr(X[:, 1], Y)\n",
    "print(f\"scipy.stats pearsonnr objekt: {r}\")\n",
    "print(f\"scipy.stats korrelation: {r.correlation}\\nsqrt(R²):\\t\\t {np.sqrt(Rsq)}\\nR²:\\t\\t\\t {Rsq}\\nAlternativ R²: \\t\\t {1 - (SSE/Syy)}\\nr²:                      {np.square(r.correlation)}\\nBeräkning av r och R² i flera steg: {rho}, {rho**2}\")\n"
   ]
  },
  {
   "cell_type": "markdown",
   "metadata": {},
   "source": [
    "### Is there an observer bias in the data collected for the small-diameter flow measurements?"
   ]
  }
 ],
 "metadata": {
  "kernelspec": {
   "display_name": ".venv",
   "language": "python",
   "name": "python3"
  },
  "language_info": {
   "codemirror_mode": {
    "name": "ipython",
    "version": 3
   },
   "file_extension": ".py",
   "mimetype": "text/x-python",
   "name": "python",
   "nbconvert_exporter": "python",
   "pygments_lexer": "ipython3",
   "version": "3.12.5"
  }
 },
 "nbformat": 4,
 "nbformat_minor": 2
}
