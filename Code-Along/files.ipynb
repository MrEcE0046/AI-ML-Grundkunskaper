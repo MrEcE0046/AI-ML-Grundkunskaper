{
 "cells": [
  {
   "cell_type": "code",
   "execution_count": 4,
   "metadata": {},
   "outputs": [
    {
     "ename": "UnsupportedOperation",
     "evalue": "not readable",
     "output_type": "error",
     "traceback": [
      "\u001b[1;31m---------------------------------------------------------------------------\u001b[0m",
      "\u001b[1;31mUnsupportedOperation\u001b[0m                      Traceback (most recent call last)",
      "Cell \u001b[1;32mIn[4], line 4\u001b[0m\n\u001b[0;32m      1\u001b[0m path \u001b[38;5;241m=\u001b[39m \u001b[38;5;124m\"\u001b[39m\u001b[38;5;124mtextfil.txt\u001b[39m\u001b[38;5;124m\"\u001b[39m\n\u001b[0;32m      3\u001b[0m \u001b[38;5;28;01mwith\u001b[39;00m \u001b[38;5;28mopen\u001b[39m(path, \u001b[38;5;124m\"\u001b[39m\u001b[38;5;124ma\u001b[39m\u001b[38;5;124m\"\u001b[39m) \u001b[38;5;28;01mas\u001b[39;00m file:\n\u001b[1;32m----> 4\u001b[0m     min_str \u001b[38;5;241m=\u001b[39m \u001b[43mfile\u001b[49m\u001b[38;5;241;43m.\u001b[39;49m\u001b[43mread\u001b[49m\u001b[43m(\u001b[49m\u001b[43m)\u001b[49m\n\u001b[0;32m      5\u001b[0m     file\u001b[38;5;241m.\u001b[39mwrite(\u001b[38;5;124m\"\u001b[39m\u001b[38;5;124mhejhej\u001b[39m\u001b[38;5;124m\"\u001b[39m)\n",
      "\u001b[1;31mUnsupportedOperation\u001b[0m: not readable"
     ]
    }
   ],
   "source": [
    "path = \"textfil.txt\"\n",
    "\n",
    "with open(path, \"a\") as file:\n",
    "    min_str = file.read()\n",
    "    file.write(\"hejhej\")"
   ]
  },
  {
   "cell_type": "code",
   "execution_count": 5,
   "metadata": {},
   "outputs": [
    {
     "name": "stdout",
     "output_type": "stream",
     "text": [
      "kdlsfkdflkdfldkflklhejhej\n"
     ]
    }
   ],
   "source": [
    "#import os\n",
    "\n",
    "path = \"../textfil.txt\"\n",
    "\n",
    "with open(path, \"a\") as file:\n",
    "    file.write(\"hejhej\")\n",
    "\n",
    "with open(path, \"r\") as file:\n",
    "    print(file.read())"
   ]
  },
  {
   "cell_type": "code",
   "execution_count": null,
   "metadata": {},
   "outputs": [],
   "source": [
    "# rensa quotes från data\n",
    "\n",
    "path = \"../Data/qoutes.txt\"\n",
    "\n",
    "with open(path, \"r\") as f:\n",
    "    text = f.read() # read whole file\n",
    "\n",
    "print(repr(text))\n",
    "\n"
   ]
  },
  {
   "cell_type": "code",
   "execution_count": null,
   "metadata": {},
   "outputs": [],
   "source": [
    "import re\n",
    "\n",
    "quotes, i = [], 1\n",
    "\n",
    "with open(path, \"r\") as f_read, open(\"../Data/quotes.txt\", \"w\") as f_write:\n",
    "    f_write.write(\"Famouse quotes\\n\\n\")\n",
    "    for quote in f_read:\n",
    "        quote = quote.strip([\" \\n\"]) # stripar på vänstersidan\n",
    "        quote = re.sub(r\" +\", \" \", quote) # tar bort flera mellanslag och ersätter med bara ett. Med ett sub = substitute = ersätt\n",
    "        if quote != \"\": # tar bort tomma rader\n",
    "            f_write.write(f\"{i}. {quote}\\n\")\n",
    "            quote += 1\n",
    "            print(quote)\n",
    "quote"
   ]
  },
  {
   "cell_type": "code",
   "execution_count": null,
   "metadata": {},
   "outputs": [],
   "source": [
    "# Tolka en text sträng , parsning\n",
    "\n",
    "with open(\"../Data/quotes_cleaned.txt\", \"r\") as f_read, open (\"..Data/quotes_cleaned.txt\", \"a\") as ......\n",
    "    quotes = [quote = quote.strip(\"\\n\") for quote in f_read.readline() if quote(0).isdigit()]\n",
    "    authors = [quote.split()[-2:] for quote in quotes]\n",
    "    authors = set([\" \".join(author) for author in authors]) \n",
    "    print(authors)\n",
    "\n",
    "    f_append.write(\"\\nAuthors\")\n",
    "    for author in authors:\n",
    "        f_append.write(f\"{author}, \")"
   ]
  }
 ],
 "metadata": {
  "kernelspec": {
   "display_name": ".venv",
   "language": "python",
   "name": "python3"
  },
  "language_info": {
   "codemirror_mode": {
    "name": "ipython",
    "version": 3
   },
   "file_extension": ".py",
   "mimetype": "text/x-python",
   "name": "python",
   "nbconvert_exporter": "python",
   "pygments_lexer": "ipython3",
   "version": "3.11.9"
  }
 },
 "nbformat": 4,
 "nbformat_minor": 2
}
