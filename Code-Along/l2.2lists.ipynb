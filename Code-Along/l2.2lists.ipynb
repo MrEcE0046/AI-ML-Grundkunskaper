{
 "cells": [
  {
   "cell_type": "code",
   "execution_count": 4,
   "metadata": {},
   "outputs": [
    {
     "name": "stdout",
     "output_type": "stream",
     "text": [
      "tv_shows[0]: Antikrundan\n",
      "tv_shows[1]: Mästrekocken\n",
      "tv_shows[-1]: Talang\n"
     ]
    }
   ],
   "source": [
    "tv_show = [\"Antikrundan\", \"Mästrekocken\", \"Aktuellt\", \"Talang\"]\n",
    "\n",
    "print(f\"tv_shows[0]: {tv_show[0]}\")\n",
    "print(f\"tv_shows[1]: {tv_show[1]}\")\n",
    "\n",
    "print(f\"tv_shows[-1]: {tv_show[-1]}\")\n",
    "\n"
   ]
  },
  {
   "cell_type": "code",
   "execution_count": 5,
   "metadata": {},
   "outputs": [
    {
     "name": "stdout",
     "output_type": "stream",
     "text": [
      "Added en element. ['Vetenskapens Värld', 'Mästrekocken', 'Aktuellt', 'Talang', 'Pokemon']\n"
     ]
    }
   ],
   "source": [
    "# append.() Lägger till saker i en lista \n",
    "tv_show[0] = \"Vetenskapens Värld\"\n",
    "\n",
    "tv_show.append(\"Pokemon\")\n",
    "print(f\"Added en element. {tv_show}\")"
   ]
  },
  {
   "cell_type": "code",
   "execution_count": 6,
   "metadata": {},
   "outputs": [
    {
     "name": "stdout",
     "output_type": "stream",
     "text": [
      "['Mästrekocken', 'Aktuellt']\n"
     ]
    }
   ],
   "source": [
    "print(tv_show[1:3])"
   ]
  },
  {
   "cell_type": "code",
   "execution_count": 10,
   "metadata": {},
   "outputs": [
    {
     "name": "stdout",
     "output_type": "stream",
     "text": [
      "['zeta', 'iota', 'gamma', 'beta', 'alpha'] ['zeta', 'iota', 'gamma', 'beta', 'alpha']\n"
     ]
    }
   ],
   "source": [
    "greek_letters = [\"alpha\", \"beta\", \"zeta\", \"gamma\", \"iota\"]\n",
    "greek_letters.sort(reverse=True) # sortera orginal lista\n",
    "sort_letter = sorted(greek_letters, reverse=True) # sorterar ny kopierad lista, retunerar baklänges\n",
    "print(greek_letters, sort_letter)\n"
   ]
  }
 ],
 "metadata": {
  "kernelspec": {
   "display_name": ".venv",
   "language": "python",
   "name": "python3"
  },
  "language_info": {
   "codemirror_mode": {
    "name": "ipython",
    "version": 3
   },
   "file_extension": ".py",
   "mimetype": "text/x-python",
   "name": "python",
   "nbconvert_exporter": "python",
   "pygments_lexer": "ipython3",
   "version": "3.11.9"
  }
 },
 "nbformat": 4,
 "nbformat_minor": 2
}
