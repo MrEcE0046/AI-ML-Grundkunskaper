{
 "cells": [
  {
   "cell_type": "code",
   "execution_count": 4,
   "metadata": {},
   "outputs": [
    {
     "name": "stdout",
     "output_type": "stream",
     "text": [
      "tv_shows[0]: Antikrundan\n",
      "tv_shows[1]: Mästrekocken\n",
      "tv_shows[-1]: Talang\n"
     ]
    }
   ],
   "source": [
    "tv_show = [\"Antikrundan\", \"Mästrekocken\", \"Aktuellt\", \"Talang\"]\n",
    "\n",
    "print(f\"tv_shows[0]: {tv_show[0]}\")\n",
    "print(f\"tv_shows[1]: {tv_show[1]}\")\n",
    "\n",
    "print(f\"tv_shows[-1]: {tv_show[-1]}\")\n",
    "\n"
   ]
  },
  {
   "cell_type": "code",
   "execution_count": 5,
   "metadata": {},
   "outputs": [
    {
     "name": "stdout",
     "output_type": "stream",
     "text": [
      "Added en element. ['Vetenskapens Värld', 'Mästrekocken', 'Aktuellt', 'Talang', 'Pokemon']\n"
     ]
    }
   ],
   "source": [
    "# append.() Lägger till saker i en lista \n",
    "tv_show[0] = \"Vetenskapens Värld\"\n",
    "\n",
    "tv_show.append(\"Pokemon\")\n",
    "print(f\"Added en element. {tv_show}\")"
   ]
  },
  {
   "cell_type": "code",
   "execution_count": 6,
   "metadata": {},
   "outputs": [
    {
     "name": "stdout",
     "output_type": "stream",
     "text": [
      "['Mästrekocken', 'Aktuellt']\n"
     ]
    }
   ],
   "source": [
    "print(tv_show[1:3])"
   ]
  },
  {
   "cell_type": "code",
   "execution_count": 10,
   "metadata": {},
   "outputs": [
    {
     "name": "stdout",
     "output_type": "stream",
     "text": [
      "['zeta', 'iota', 'gamma', 'beta', 'alpha'] ['zeta', 'iota', 'gamma', 'beta', 'alpha']\n"
     ]
    }
   ],
   "source": [
    "greek_letters = [\"alpha\", \"beta\", \"zeta\", \"gamma\", \"iota\"]\n",
    "greek_letters.sort(reverse=True) # sortera orginal lista\n",
    "sort_letter = sorted(greek_letters, reverse=True) # sorterar ny kopierad lista, retunerar baklänges\n",
    "print(greek_letters, sort_letter)\n"
   ]
  },
  {
   "cell_type": "markdown",
   "metadata": {},
   "source": []
  },
  {
   "cell_type": "code",
   "execution_count": 9,
   "metadata": {},
   "outputs": [
    {
     "data": {
      "text/plain": [
       "[2, 4, 6]"
      ]
     },
     "execution_count": 9,
     "metadata": {},
     "output_type": "execute_result"
    }
   ],
   "source": [
    "# Comprihensions\n",
    "\n",
    "[x for x in range(1, 11)]\n",
    "\n",
    "ls =[2,3,4,5,6]\n",
    "[str(l) for l in ls]\n",
    "\n",
    "[l for l in ls if l % 2 == 0]"
   ]
  },
  {
   "cell_type": "code",
   "execution_count": 10,
   "metadata": {},
   "outputs": [
    {
     "data": {
      "text/plain": [
       "{1, 2, 3, 4, 5, 6, 7, 8, 9, 10}"
      ]
     },
     "execution_count": 10,
     "metadata": {},
     "output_type": "execute_result"
    }
   ],
   "source": [
    "# Dict\n",
    "{i for i in range(1,11)}\n"
   ]
  },
  {
   "cell_type": "code",
   "execution_count": 11,
   "metadata": {},
   "outputs": [
    {
     "data": {
      "text/plain": [
       "Text(0, 0.5, 'y')"
      ]
     },
     "execution_count": 11,
     "metadata": {},
     "output_type": "execute_result"
    },
    {
     "data": {
      "image/png": "[encoded data removed]",
      "text/plain": [
       "<Figure size 640x480 with 1 Axes>"
      ]
     },
     "metadata": {},
     "output_type": "display_data"
    }
   ],
   "source": [
    "import matplotlib.pyplot as plt\n",
    "\n",
    "\n",
    "x = list(range(10))\n",
    "k = 2\n",
    "m = 2\n",
    "y = [k*x*m for x in x]\n",
    "\n",
    "plt.plot(x,y)\n",
    "plt.title(\"plot y = 2x + 2\")\n",
    "plt.ylabel(\"x\")\n",
    "plt.ylabel(\"y\")"
   ]
  },
  {
   "cell_type": "markdown",
   "metadata": {},
   "source": [
    "### Regular expressions"
   ]
  },
  {
   "cell_type": "code",
   "execution_count": 12,
   "metadata": {},
   "outputs": [
    {
     "name": "stdout",
     "output_type": "stream",
     "text": [
      "['katt', 'hatt']\n"
     ]
    }
   ],
   "source": [
    "import re\n",
    "\n",
    "text = \"Det var en gång en katt som tog på sig en hatt\"\n",
    "match_list = re.findall(r\".att\", text)\n",
    "\n",
    "print(match_list)"
   ]
  },
  {
   "cell_type": "code",
   "execution_count": 13,
   "metadata": {},
   "outputs": [
    {
     "name": "stdout",
     "output_type": "stream",
     "text": [
      "YYYYMMDD-XX: ['98652055-4545', '15165456-4586', '49685465-4556', '54965465-5466']\n"
     ]
    }
   ],
   "source": [
    "person_numbers = \"Ida: 198652055-4545, Berit: 15165456-4586, Ada: 1549685465-4556, Emil: 154965465-5466\"\n",
    "match_long = re.findall(r\"\\d{8}-\\d{4}\", person_numbers)\n",
    "# Tar hela pers nummret\n",
    "print(f\"YYYYMMDD-XX: {match_long}\")"
   ]
  },
  {
   "cell_type": "code",
   "execution_count": 14,
   "metadata": {},
   "outputs": [
    {
     "name": "stdout",
     "output_type": "stream",
     "text": [
      "YYMMDD-XX, ['652055-4545', '165456-4586', '685465-4556', '965465-5466']\n"
     ]
    }
   ],
   "source": [
    "match_short = re.findall(r\"\\d{6}-\\d{4}\", person_numbers)\n",
    "#Skippar de två första numret i pers nummer\n",
    "print(f\"YYMMDD-XX, {match_short}\")"
   ]
  },
  {
   "cell_type": "code",
   "execution_count": 15,
   "metadata": {},
   "outputs": [
    {
     "name": "stdout",
     "output_type": "stream",
     "text": [
      "['198652055-4545', '15165456-4586', '1549685465-4556', '154965465-5466']\n"
     ]
    }
   ],
   "source": [
    "my_match = re.findall(r\"\\d+-\\d+\", person_numbers)\n",
    "print(my_match)\n",
    "\n",
    "# python re -- KOLLA UPP!!"
   ]
  },
  {
   "cell_type": "code",
   "execution_count": 16,
   "metadata": {},
   "outputs": [
    {
     "name": "stdout",
     "output_type": "stream",
     "text": [
      "Distance between points [2, 5] and [-2, 4] is 4.123105625617661 u.\n"
     ]
    }
   ],
   "source": [
    "import math\n",
    "point1 = [2, 5]\n",
    "point2 = [-2, 4]\n",
    "\n",
    "distance = math.sqrt((point1[0] - point2[0])**2 + (point1[1] - point2[1])**2)\n",
    "print(f\"Distance between points {point1} and {point2} is {distance} u.\")\n"
   ]
  },
  {
   "cell_type": "code",
   "execution_count": 17,
   "metadata": {},
   "outputs": [
    {
     "name": "stdout",
     "output_type": "stream",
     "text": [
      "Number of iterations: 1000002\n",
      " sum: 0.7854 or 0.2500pi\n"
     ]
    }
   ],
   "source": [
    "import numpy as np\n",
    "\n",
    "def term(n):\n",
    "    return np.divide(np.float_power((-1), n), 2*n+1)\n",
    "n = 0\n",
    "acc = 0\n",
    "v = 0\n",
    "e = 1\n",
    "while e > np.float_power(10, -6):\n",
    "    prev = v\n",
    "    v = term(n)\n",
    "    e = np.absolute(prev - v)\n",
    "    acc += v\n",
    "    n += 1\n",
    "\n",
    "print(f\"Number of iterations: {n}\\n sum: {acc:.4f} or {np.divide(acc, np.pi):.4f}pi\")"
   ]
  },
  {
   "cell_type": "code",
   "execution_count": 18,
   "metadata": {},
   "outputs": [
    {
     "name": "stdout",
     "output_type": "stream",
     "text": [
      "sum 0.7854 or 0.2500pi \n"
     ]
    }
   ],
   "source": [
    "X = np.arange(1000000)\n",
    "s = np.sum(term(X))\n",
    "print(f\"sum {s:.4f} or {np.divide(s, np.pi):.4f}pi \")"
   ]
  }
 ],
 "metadata": {
  "kernelspec": {
   "display_name": ".venv",
   "language": "python",
   "name": "python3"
  },
  "language_info": {
   "codemirror_mode": {
    "name": "ipython",
    "version": 3
   },
   "file_extension": ".py",
   "mimetype": "text/x-python",
   "name": "python",
   "nbconvert_exporter": "python",
   "pygments_lexer": "ipython3",
   "version": "3.11.9"
  }
 },
 "nbformat": 4,
 "nbformat_minor": 2
}
